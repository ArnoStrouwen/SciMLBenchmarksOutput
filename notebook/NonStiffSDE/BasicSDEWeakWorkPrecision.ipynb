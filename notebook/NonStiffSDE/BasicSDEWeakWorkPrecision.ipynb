{
  "cells": [
    {
      "cell_type": "markdown",
      "source": [
        "# SDE Basic Weak Work-Precision Diagrams\n### Chris Rackauckas\n\n# SDE Basic Weak Work-Precision Diagrams\n\nIn this notebook we will run some benchmarks for the weak error on some simple sample SDEs. The weak error is defined as:\n\n$$E_W = \\mathbb{E}[Y_\\delta(t)] - \\mathbb{E}[Y(t)]$$\n\nand is thus a measure of how close the mean of the numerical solution is to the mean of the true solution. Other moments can be measured as well, but the mean is a good stand-in for other properties. Note that convergence of the mean is calculated on a sample. Thus there's acutally two sources of error. We have not only the error between the numerical and actual results, but we also have the error of the mean to the true mean due to only taking a finite sample. Using the normal confidence interval of the mean due to the Central Limit Theorem, the error due to finite sampling is\n\n$$E_S = V[Y(t)]/\\sqrt(N)$$\n\nfor $N$ being the number of samples. In practice,\n\n$$E = minimum(E_W,E_S)$$\n\nThus in each case, we will determine the variance of the true solution and use that to estimate the sample error, and the goal is to thus find the numerical method that achieves the sample error most efficiently."
      ],
      "metadata": {}
    },
    {
      "outputs": [],
      "cell_type": "code",
      "source": [
        "using StochasticDiffEq, DiffEqDevTools, ParameterizedFunctions, DiffEqProblemLibrary\nusing Plots; gr()\nusing DiffEqProblemLibrary.SDEProblemLibrary: importsdeproblems; importsdeproblems()\nimport DiffEqProblemLibrary.SDEProblemLibrary: prob_sde_additive,\n            prob_sde_linear, prob_sde_wave\nconst N = 1000"
      ],
      "metadata": {},
      "execution_count": null
    },
    {
      "cell_type": "markdown",
      "source": [
        "### Additive Noise Problem\n\n$$dX_{t}=\\left(\\frac{\\beta}{\\sqrt{1+t}}-\\frac{1}{2\\left(1+t\\right)}X_{t}\\right)dt+\\frac{\\alpha\\beta}{\\sqrt{1+t}}dW_{t},\\thinspace\\thinspace\\thinspace X_{0}=\\frac{1}{2}$$\n\nwhere $\\alpha=\\frac{1}{10}$ and $\\beta=\\frac{1}{20}$. Actual Solution:\n\n$$X_{t}=\\frac{1}{\\sqrt{1+t}}X_{0}+\\frac{\\beta}{\\sqrt{1+t}}\\left(t+\\alpha W_{t}\\right).$$"
      ],
      "metadata": {}
    },
    {
      "outputs": [],
      "cell_type": "code",
      "source": [
        "prob = prob_sde_additive\n\nreltols = 1.0 ./ 10.0 .^ (1:5)\nabstols = reltols#[0.0 for i in eachindex(reltols)]\nsetups = [\n          Dict(:alg=>EM(),:dts=>1.0./5.0.^((1:length(reltols)) .+ 1))\n          Dict(:alg=>RKMil(),:dts=>1.0./5.0.^((1:length(reltols)) .+ 1),:adaptive=>false)\n          Dict(:alg=>SRIW1(),:dts=>1.0./5.0.^((1:length(reltols)) .+ 1),:adaptive=>false)\n          Dict(:alg=>SRA1(),:dts=>1.0./5.0.^((1:length(reltols)) .+ 1),:adaptive=>false)\n          Dict(:alg=>SRA1())\n          Dict(:alg=>SRIW1())\n          ]\nwp = WorkPrecisionSet(prob,abstols,reltols,setups;numruns_error=N,\n                      save_everystep = false,\n                      parallel_type = :none,\n                      error_estimate=:weak_final)#\nplot(wp)"
      ],
      "metadata": {},
      "execution_count": null
    },
    {
      "outputs": [],
      "cell_type": "code",
      "source": [
        "sample_size = Int[10;1e2;1e3;1e4]\nse = get_sample_errors(prob,setups[6],numruns=sample_size,\n                                      sample_error_runs = 100_000,solution_runs=100)"
      ],
      "metadata": {},
      "execution_count": null
    },
    {
      "outputs": [],
      "cell_type": "code",
      "source": [
        "times = [wp[i].times for i in 1:length(wp)]\ntimes = [minimum(minimum(t) for t in times),maximum(maximum(t) for t in times)]\nplot!([se[end];se[end]],times,color=:red,linestyle=:dash,label=\"Sample Error: 10000\",lw=3)"
      ],
      "metadata": {},
      "execution_count": null
    },
    {
      "outputs": [],
      "cell_type": "code",
      "source": [
        "prob = prob_sde_additive\n\nreltols = 1.0 ./ 10.0 .^ (1:5)\nabstols = reltols#[0.0 for i in eachindex(reltols)]\nsetups = [\n          Dict(:alg=>SRA1())\n          Dict(:alg=>SRA2())\n          Dict(:alg=>SRA3())\n          Dict(:alg=>SOSRA())\n          Dict(:alg=>SOSRA2())\n          ]\nwp = WorkPrecisionSet(prob,abstols,reltols,setups;numruns_error=N,\n                      save_everystep = false,\n                      maxiters = 1e7,\n                      parallel_type = :none,\n                      error_estimate=:weak_final)\nplot(wp)"
      ],
      "metadata": {},
      "execution_count": null
    },
    {
      "outputs": [],
      "cell_type": "code",
      "source": [
        "sample_size = Int[10;1e2;1e3;1e4]\nse = get_sample_errors(prob,setups[4],numruns=sample_size,\n                                      sample_error_runs = 100_000,solution_runs=100)"
      ],
      "metadata": {},
      "execution_count": null
    },
    {
      "outputs": [],
      "cell_type": "code",
      "source": [
        "times = [wp[i].times for i in 1:length(wp)]\ntimes = [minimum(minimum(t) for t in times),maximum(maximum(t) for t in times)]\nplot!([se[end];se[end]],times,color=:red,linestyle=:dash,label=\"Sample Error: 10000\",lw=3)"
      ],
      "metadata": {},
      "execution_count": null
    },
    {
      "cell_type": "markdown",
      "source": [
        "### Scalar Noise\n\nWe will use a the linear SDE (also known as the Black-Scholes equation)\n\n$$dX_{t}=\\alpha X_{t}dt+\\beta X_{t}dW_{t},\\thinspace\\thinspace\\thinspace X_{0}=\\frac{1}{2}$$\n\nwhere $\\alpha=\\frac{1}{10}$ and $\\beta=\\frac{1}{20}$. Actual Solution:\n\n$$X_{t}=X_{0}e^{\\left(\\beta-\\frac{\\alpha^{2}}{2}\\right)t+\\alpha W_{t}}.$$"
      ],
      "metadata": {}
    },
    {
      "outputs": [],
      "cell_type": "code",
      "source": [
        "prob = prob_sde_linear\n\nreltols = 1.0 ./ 10.0 .^ (1:5)\nabstols = reltols#[0.0 for i in eachindex(reltols)]\n\nsetups = [Dict(:alg=>SRIW1())\n          Dict(:alg=>EM(),:dts=>1.0./5.0.^((1:length(reltols)) .+ 1))\n          Dict(:alg=>RKMil(),:dts=>1.0./5.0.^((1:length(reltols)) .+ 1),:adaptive=>false)\n          Dict(:alg=>SRIW1(),:dts=>1.0./5.0.^((1:length(reltols)) .+ 1),:adaptive=>false)\n          ]\nwp = WorkPrecisionSet(prob,abstols,reltols,setups;numruns_error=N,\n                      save_everystep = false,\n                      maxiters = 1e7,\n                      parallel_type = :none,\n                      error_estimate=:weak_final)\nplot(wp)"
      ],
      "metadata": {},
      "execution_count": null
    },
    {
      "outputs": [],
      "cell_type": "code",
      "source": [
        "sample_size = Int[10;1e2;1e3;1e4]\nse = get_sample_errors(prob,setups[1],numruns=sample_size,\n                                      sample_error_runs = 100_000,solution_runs=100)"
      ],
      "metadata": {},
      "execution_count": null
    },
    {
      "outputs": [],
      "cell_type": "code",
      "source": [
        "times = [wp[i].times for i in 1:length(wp)]\ntimes = [minimum(minimum(t) for t in times),maximum(maximum(t) for t in times)]\nplot!([se[end];se[end]],times,color=:red,linestyle=:dash,label=\"Sample Error: 10000\",lw=3)"
      ],
      "metadata": {},
      "execution_count": null
    },
    {
      "outputs": [],
      "cell_type": "code",
      "source": [
        "prob = prob_sde_linear\n\nreltols = 1.0 ./ 10.0 .^ (1:5)\nabstols = reltols#[0.0 for i in eachindex(reltols)]\n\nsetups = [Dict(:alg=>EM(),:dts=>1.0./5.0.^((1:length(reltols)) .+ 2))\n          Dict(:alg=>RKMil(),:dts=>1.0./5.0.^((1:length(reltols)) .+ 2),:adaptive=>false)\n          Dict(:alg=>SRI())\n          Dict(:alg=>SRIW1())\n          Dict(:alg=>SRIW2())\n          Dict(:alg=>SOSRI())\n          Dict(:alg=>SOSRI2())\n          ]\nwp = WorkPrecisionSet(prob,abstols,reltols,setups;numruns_error=N,\n                      save_everystep = false,\n                      maxiters = 1e7,\n                      parallel_type = :none,\n                      error_estimate=:weak_final)\nplot(wp)"
      ],
      "metadata": {},
      "execution_count": null
    },
    {
      "outputs": [],
      "cell_type": "code",
      "source": [
        "sample_size = Int[10;1e2;1e3;1e4]\nse = get_sample_errors(prob,setups[6],numruns=sample_size,\n                                      sample_error_runs = 100_000,solution_runs=100)"
      ],
      "metadata": {},
      "execution_count": null
    },
    {
      "outputs": [],
      "cell_type": "code",
      "source": [
        "times = [wp[i].times for i in 1:length(wp)]\ntimes = [minimum(minimum(t) for t in times),maximum(maximum(t) for t in times)]\nplot!([se[end];se[end]],times,color=:red,linestyle=:dash,label=\"Sample Error: 10000\",lw=3)"
      ],
      "metadata": {},
      "execution_count": null
    },
    {
      "cell_type": "markdown",
      "source": [
        "## Scalar Wave SDE\n\n$$dX_{t}=-\\left(\\frac{1}{10}\\right)^{2}\\sin\\left(X_{t}\\right)\\cos^{3}\\left(X_{t}\\right)dt+\\frac{1}{10}\\cos^{2}\\left(X_{t}\\right)dW_{t},\\thinspace\\thinspace\\thinspace X_{0}=\\frac{1}{2}$$\n\nActual Solution:\n\n$$X_{t}=\\arctan\\left(\\frac{1}{10}W_{t}+\\tan\\left(X_{0}\\right)\\right).$$"
      ],
      "metadata": {}
    },
    {
      "outputs": [],
      "cell_type": "code",
      "source": [
        "prob = prob_sde_wave\n\nreltols = 1.0 ./ 10.0 .^ (1:5)\nabstols = reltols#[0.0 for i in eachindex(reltols)]\n\nsetups = [\n          Dict(:alg=>EM(),:dts=>1.0./5.0.^((1:length(reltols)) .+ 1))\n          Dict(:alg=>RKMil(),:dts=>1.0./5.0.^((1:length(reltols)) .+ 1),:adaptive=>false)\n          Dict(:alg=>SRIW1(),:dts=>1.0./5.0.^((1:length(reltols)) .+ 1),:adaptive=>false)\n          Dict(:alg=>SRIW1())\n          ]\n\nwp = WorkPrecisionSet(prob,abstols,reltols,setups;numruns_error=N,\n                      save_everystep = false,\n                      maxiters = 1e7,\n                      parallel_type = :none,\n                      error_estimate=:weak_final)\nplot(wp)"
      ],
      "metadata": {},
      "execution_count": null
    },
    {
      "outputs": [],
      "cell_type": "code",
      "source": [
        "sample_size = Int[10;1e2;1e3;1e4]\nse = get_sample_errors(prob,setups[4],numruns=sample_size,\n                                      sample_error_runs = 100_000,solution_runs=100)"
      ],
      "metadata": {},
      "execution_count": null
    },
    {
      "outputs": [],
      "cell_type": "code",
      "source": [
        "times = [wp[i].times for i in 1:length(wp)]\ntimes = [minimum(minimum(t) for t in times),maximum(maximum(t) for t in times)]\nplot!([se[end];se[end]],times,color=:red,linestyle=:dash,label=\"Sample Error: 10000\",lw=3)"
      ],
      "metadata": {},
      "execution_count": null
    },
    {
      "outputs": [],
      "cell_type": "code",
      "source": [
        "prob = prob_sde_wave\n\nreltols = 1.0 ./ 10.0 .^ (1:5)\nabstols = reltols#[0.0 for i in eachindex(reltols)]\n\nsetups = [Dict(:alg=>EM(),:dts=>1.0./5.0.^((1:length(reltols)) .+ 2))\n          Dict(:alg=>RKMil(),:dts=>1.0./5.0.^((1:length(reltols)) .+ 2),:adaptive=>false)\n          Dict(:alg=>SRI())\n          Dict(:alg=>SRIW1())\n          Dict(:alg=>SRIW2())\n          Dict(:alg=>SOSRI())\n          Dict(:alg=>SOSRI2())\n          ]\nwp = WorkPrecisionSet(prob,abstols,reltols,setups;numruns_error=N,\n                      save_everystep = false,\n                      maxiters = 1e7,\n                      parallel_type = :none,\n                      error_estimate=:weak_final)\nplot(wp)"
      ],
      "metadata": {},
      "execution_count": null
    },
    {
      "outputs": [],
      "cell_type": "code",
      "source": [
        "sample_size = Int[10;1e2;1e3;1e4]\nse = get_sample_errors(prob,setups[6],numruns=sample_size,\n                                      sample_error_runs = 100_000,solution_runs=100)"
      ],
      "metadata": {},
      "execution_count": null
    },
    {
      "outputs": [],
      "cell_type": "code",
      "source": [
        "times = [wp[i].times for i in 1:length(wp)]\ntimes = [minimum(minimum(t) for t in times),maximum(maximum(t) for t in times)]\nplot!([se[end];se[end]],times,color=:red,linestyle=:dash,label=\"Sample Error: 10000\",lw=3)"
      ],
      "metadata": {},
      "execution_count": null
    },
    {
      "cell_type": "markdown",
      "source": [
        "## Summary\n\nIn the additive noise problem, the `EM` and `RKMil` algorithms are not effective at reaching the sample error. In the other two problems, the `EM` and `RKMil` algorithms are as efficient as the higher order methods at achieving the maximal weak error."
      ],
      "metadata": {}
    },
    {
      "outputs": [],
      "cell_type": "code",
      "source": [
        "using DiffEqBenchmarks\nDiffEqBenchmarks.bench_footer(WEAVE_ARGS[:folder],WEAVE_ARGS[:file])"
      ],
      "metadata": {},
      "execution_count": null
    }
  ],
  "nbformat_minor": 2,
  "metadata": {
    "language_info": {
      "file_extension": ".jl",
      "mimetype": "application/julia",
      "name": "julia",
      "version": "1.1.0"
    },
    "kernelspec": {
      "name": "julia-1.1",
      "display_name": "Julia 1.1.0",
      "language": "julia"
    }
  },
  "nbformat": 4
}
