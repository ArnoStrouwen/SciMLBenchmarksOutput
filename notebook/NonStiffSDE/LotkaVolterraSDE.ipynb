{
  "cells": [
    {
      "cell_type": "markdown",
      "source": [
        "# SDE Lokta-Volterra Work-Precision Diagrams\n### Chris Rackauckas"
      ],
      "metadata": {}
    },
    {
      "outputs": [],
      "cell_type": "code",
      "source": [
        "using StochasticDiffEq, DiffEqDevTools, ParameterizedFunctions\nusing Plots; gr()\nconst N = 100\n\nf = @ode_def LotkaVolterraTest begin\n  dx = a*x - b*x*y\n  dy = -c*y + d*x*y\nend a b c d\n\np = [1.5,1.0,3.0,1.0]\n\nfunction g(du,u,p,t)\n  du .= 0.1u\nend\nu0 = [1.0;1.0]\ntspan = (0.0,10.0)\nprob = SDEProblem(f,g,u0,tspan,p);"
      ],
      "metadata": {},
      "execution_count": null
    },
    {
      "outputs": [],
      "cell_type": "code",
      "source": [
        "sol = solve(prob,SRIW1(),abstol=1e-4,reltol=1e-4)\nplot(sol)"
      ],
      "metadata": {},
      "execution_count": null
    },
    {
      "cell_type": "markdown",
      "source": [
        "## Strong Error\n\nThe starting `dt`s was chosen as the largest in the `1/4^i` which were stable. All larger `dt`s contained trajectories which would veer off to infinity."
      ],
      "metadata": {}
    },
    {
      "outputs": [],
      "cell_type": "code",
      "source": [
        "reltols = 1.0 ./ 4.0 .^ (2:4)\nabstols = reltols#[0.0 for i in eachindex(reltols)]\nsetups = [Dict(:alg=>SRIW1())\n          Dict(:alg=>EM(),:dts=>1.0./12.0.^((1:length(reltols)) .+ 1.5))\n          Dict(:alg=>RKMil(),:dts=>1.0./12.0.^((1:length(reltols)) .+ 1.5),:adaptive=>false)\n          Dict(:alg=>SRIW1(),:dts=>1.0./4.0.^((1:length(reltols)) .+ 5),:adaptive=>false)\n          Dict(:alg=>SRIW2())\n          Dict(:alg=>SOSRI())\n          Dict(:alg=>SOSRI2())\n          ]\ntest_dt = 1/10^2\nappxsol_setup = Dict(:alg=>SRIW1(),:abstol=>1e-4,:reltol=>1e-4)\nwp = WorkPrecisionSet(prob,abstols,reltols,setups,test_dt;\n                                     maxiters = 1e7,\n                                     verbose=false,save_everystep=false,\n                                     parallel_type = :threads,\n                                     appxsol_setup = appxsol_setup,\n                                     numruns_error=N,error_estimate=:final)\nplot(wp)"
      ],
      "metadata": {},
      "execution_count": null
    },
    {
      "cell_type": "markdown",
      "source": [
        "## Weak Error"
      ],
      "metadata": {}
    },
    {
      "outputs": [],
      "cell_type": "code",
      "source": [
        "reltols = 1.0 ./ 4.0 .^ (2:4)\nabstols = reltols#[0.0 for i in eachindex(reltols)]\nsetups = [Dict(:alg=>SRIW1())\n          Dict(:alg=>EM(),:dts=>1.0./12.0.^((1:length(reltols)) .+ 1.5))\n          Dict(:alg=>RKMil(),:dts=>1.0./12.0.^((1:length(reltols)) .+ 1.5),:adaptive=>false)\n          Dict(:alg=>SRIW1(),:dts=>1.0./4.0.^((1:length(reltols)) .+ 5),:adaptive=>false)\n          Dict(:alg=>SRIW2())\n          Dict(:alg=>SOSRI())\n          Dict(:alg=>SOSRI2())\n          ]\ntest_dt = 1e-2\nappxsol_setup = Dict(:alg=>SRIW1(),:abstol=>1e-4,:reltol=>1e-4)\nwp = WorkPrecisionSet(prob,abstols,reltols,setups,test_dt;\n                                     maxiters = 1e7,\n                                     verbose=false,save_everystep=false,\n                                     parallel_type = :none,\n                                     appxsol_setup = appxsol_setup,\n                                     numruns_error=N,error_estimate=:weak_final)\nplot(wp;legend=:topleft)"
      ],
      "metadata": {},
      "execution_count": null
    },
    {
      "outputs": [],
      "cell_type": "code",
      "source": [
        "sample_size = Int[10;1e2;1e3]\nse = get_sample_errors(prob,setups[6],test_dt,numruns=sample_size,\n                                      appxsol_setup = appxsol_setup,\n                                      sample_error_runs = 100_000,solution_runs=20)"
      ],
      "metadata": {},
      "execution_count": null
    },
    {
      "outputs": [],
      "cell_type": "code",
      "source": [
        "plot(wp;legend=:topleft)\ntimes = [wp[i].times for i in 1:length(wp)]\ntimes = [minimum(minimum(t) for t in times),maximum(maximum(t) for t in times)]\nplot!([se[end];se[end]],times,color=:orange,linestyle=:dash,label=\"Sample Error: 1000\",lw=3)"
      ],
      "metadata": {},
      "execution_count": null
    },
    {
      "cell_type": "markdown",
      "source": [
        "## Conclusion\n\nThese results show that in both strong and weak error, the high order method is more efficient. The strong and the weak are track each other well for the methods tested on this problem, with the strong error slightly higher than the weak error. To reach the sample error for a 100 trajectories, the higher order method is around 5x faster. To reach the sampling error for 10000 trajectories, the higher order method is nearly 100x faster."
      ],
      "metadata": {}
    },
    {
      "outputs": [],
      "cell_type": "code",
      "source": [
        "using DiffEqBenchmarks\nDiffEqBenchmarks.bench_footer(WEAVE_ARGS[:folder],WEAVE_ARGS[:file])"
      ],
      "metadata": {},
      "execution_count": null
    }
  ],
  "nbformat_minor": 2,
  "metadata": {
    "language_info": {
      "file_extension": ".jl",
      "mimetype": "application/julia",
      "name": "julia",
      "version": "1.1.0"
    },
    "kernelspec": {
      "name": "julia-1.1",
      "display_name": "Julia 1.1.0",
      "language": "julia"
    }
  },
  "nbformat": 4
}
