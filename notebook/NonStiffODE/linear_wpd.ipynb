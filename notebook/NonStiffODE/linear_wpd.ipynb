{
  "cells": [
    {
      "cell_type": "markdown",
      "source": [
        "For these tests we will solve a diagonal 100 independent linear differential\nequations. This will demonstrate the efficiency of the implementation of the methods\nfor handling large systems, since the system is both large enough that array\nhandling matters, but `f` is cheap enough that it is not simply a game of\ncalculating `f` as few times as possible. We will be mostly looking at the\nefficiency of the work-horse Dormand-Prince Order 4/5 Pairs: one from\nDifferentialEquations.jl (`DP5`, one from ODE.jl `rk45`, and one from\nODEInterface: Hairer's famous `dopri5`).\n\nAlso included is `Tsit5`. While all other ODE programs have gone with the\ntraditional choice of using the Dormand-Prince 4/5 pair as the default,\nDifferentialEquations.jl uses `Tsit5` as one of the default algorithms. It's a\nvery new (2011) and not widely known, but the theory and the implimentation\nshows it's more efficient than DP5. Thus we include it just to show off how\nre-designing a library from the ground up in a language for rapid code and\nrapid development has its advantages.\n\n## Setup"
      ],
      "metadata": {}
    },
    {
      "outputs": [],
      "cell_type": "code",
      "source": [
        "using OrdinaryDiffEq, Sundials, DiffEqDevTools, Plots, ODEInterfaceDiffEq, ODE, LSODA\nusing Random\nRandom.seed!(123)\ngr()\n# 2D Linear ODE\nfunction f(du,u,p,t)\n  @inbounds for i in eachindex(u)\n    du[i] = 1.01*u[i]\n  end\nend\nfunction f_analytic(u₀,p,t)\n  u₀*exp(1.01*t)\nend\ntspan = (0.0,10.0)\nprob = ODEProblem(ODEFunction(f,analytic=f_analytic),rand(100,100),tspan)\n\nabstols = 1.0 ./ 10.0 .^ (3:13)\nreltols = 1.0 ./ 10.0 .^ (0:10);"
      ],
      "metadata": {},
      "execution_count": null
    },
    {
      "cell_type": "markdown",
      "source": [
        "### Speed Baseline\n\nFirst a baseline. These are all testing the same Dormand-Prince order 5/4\nalgorithm of each package. While all the same Runge-Kutta tableau, they exhibit\ndifferent behavior due to different choices of adaptive timestepping algorithms\nand tuning. First we will test with all extra saving features are turned off to\nput DifferentialEquations.jl in \"speed mode\"."
      ],
      "metadata": {}
    },
    {
      "outputs": [],
      "cell_type": "code",
      "source": [
        "setups = [Dict(:alg=>DP5())\n          Dict(:alg=>ode45())\n          Dict(:alg=>dopri5())\n          Dict(:alg=>ARKODE(Sundials.Explicit(),etable=Sundials.DORMAND_PRINCE_7_4_5))\n          Dict(:alg=>Tsit5())]\nsolnames = [\"OrdinaryDiffEq\";\"ODE\";\"ODEInterface\";\"Sundials ARKODE\";\"OrdinaryDiffEq Tsit5\"]\nwp = WorkPrecisionSet(prob,abstols,reltols,setups;names=solnames,save_everystep=false,numruns=100)\nplot(wp)"
      ],
      "metadata": {},
      "execution_count": null
    },
    {
      "cell_type": "markdown",
      "source": [
        "OrdinaryDiffEq.jl is clearly far in the lead, being more than an order of\nmagnitude faster for the same amount of error.\n\n### Full Saving"
      ],
      "metadata": {}
    },
    {
      "outputs": [],
      "cell_type": "code",
      "source": [
        "setups = [Dict(:alg=>DP5(),:dense=>false)\n          Dict(:alg=>ode45(),:dense=>false)\n          Dict(:alg=>dopri5()) # dense=false by default: no nonlinear interpolation\n          Dict(:alg=>ARKODE(Sundials.Explicit(),etable=Sundials.DORMAND_PRINCE_7_4_5),:dense=>false)\n          Dict(:alg=>Tsit5(),:dense=>false)]\nsolnames = [\"OrdinaryDiffEq\";\"ODE\";\"ODEInterface\";\"Sundials ARKODE\";\"OrdinaryDiffEq Tsit5\"]\nwp = WorkPrecisionSet(prob,abstols,reltols,setups;names=solnames,numruns=100)\nplot(wp)"
      ],
      "metadata": {},
      "execution_count": null
    },
    {
      "cell_type": "markdown",
      "source": [
        "While not as dramatic as before, DifferentialEquations.jl is still far in the\nlead. Since the times are log scaled, this comes out to be almost a 5x lead\nover ODEInterface, and about a 10x lead over ODE.jl at default tolerances.\n\n### Continuous Output\n\nNow we include continuous output. This has a large overhead because at every\ntimepoint the matrix of rates `k` has to be deep copied."
      ],
      "metadata": {}
    },
    {
      "outputs": [],
      "cell_type": "code",
      "source": [
        "setups = [Dict(:alg=>DP5())\n          Dict(:alg=>ode45())\n          Dict(:alg=>dopri5())\n          Dict(:alg=>ARKODE(Sundials.Explicit(),etable=Sundials.DORMAND_PRINCE_7_4_5))\n          Dict(:alg=>Tsit5())]\nsolnames = [\"OrdinaryDiffEq\";\"ODE\";\"ODEInterface\";\"Sundials ARKODE\";\"OrdinaryDiffEq Tsit5\"]\nwp = WorkPrecisionSet(prob,abstols,reltols,setups;names=solnames,numruns=100)\nplot(wp)"
      ],
      "metadata": {},
      "execution_count": null
    },
    {
      "cell_type": "markdown",
      "source": [
        "As you can see, even with this large overhead, DifferentialEquations.jl\nessentially ties with ODEInterface. This shows that the fully featured `DP5`\nsolver holds its own with even the classic \"great\" methods.\n\n### Other Runge-Kutta Algorithms\n\nNow let's test it against a smattering of other Runge-Kutta algorithms. First\nwe will test it with all overheads off. Let's do the Order 5 (and the 2/3 pair)\nalgorithms:"
      ],
      "metadata": {}
    },
    {
      "outputs": [],
      "cell_type": "code",
      "source": [
        "setups = [Dict(:alg=>DP5())\n          Dict(:alg=>BS3())\n          Dict(:alg=>BS5())\n          Dict(:alg=>Tsit5())]\nwp = WorkPrecisionSet(prob,abstols,reltols,setups;save_everystep=false,numruns=100)\nplot(wp)"
      ],
      "metadata": {},
      "execution_count": null
    },
    {
      "cell_type": "markdown",
      "source": [
        "As you can see, the `Tsit5` algorithm is the most efficient, beating `DP5`\nwhich is more efficient than the Bogacki-Shampine algorithms. However, you can\nsee that when the tolerance is high, `BS3` could be of use since its slope is\nso steep.\n\n## Higher Order\n\nNow let's see how OrdinaryDiffEq.jl fairs with some higher order algorithms:"
      ],
      "metadata": {}
    },
    {
      "outputs": [],
      "cell_type": "code",
      "source": [
        "setups = [Dict(:alg=>DP5())\n          Dict(:alg=>Vern6())\n          Dict(:alg=>TanYam7())\n          Dict(:alg=>Vern7())\n          Dict(:alg=>Vern8())\n          Dict(:alg=>DP8())\n          Dict(:alg=>Vern9())]\nwp = WorkPrecisionSet(prob,abstols,reltols,setups;save_everystep=false,numruns=100)\nplot(wp)"
      ],
      "metadata": {},
      "execution_count": null
    },
    {
      "cell_type": "markdown",
      "source": [
        "Vern7 looks to be the winner here, with DP5 doing well at higher tolerances but\ntrailing of when it gets lower as one would expect with lower order algorithms.\nSome of the higher order methods, such as `Vern9`, would do better at lower\ntolerances than what's tested (outside of floating point range).\n\n## Higher Order With Many Packages\n\nNow we test OrdinaryDiffEq against the high order methods of the other packages:"
      ],
      "metadata": {}
    },
    {
      "outputs": [],
      "cell_type": "code",
      "source": [
        "setups = [Dict(:alg=>DP5())\n          Dict(:alg=>Vern7())\n          Dict(:alg=>dop853())\n          Dict(:alg=>ode78())\n          Dict(:alg=>odex())\n          Dict(:alg=>lsoda())\n          Dict(:alg=>ddeabm())\n          Dict(:alg=>ARKODE(Sundials.Explicit(),order=8))\n          Dict(:alg=>CVODE_Adams())]\nwp = WorkPrecisionSet(prob,abstols,reltols,setups;save_everystep=false,numruns=100)\nplot(wp)"
      ],
      "metadata": {},
      "execution_count": null
    },
    {
      "cell_type": "markdown",
      "source": [
        "Here you can once again see the DifferentialEquations algorithms far in the\nlead. It's well known that for cheap function costs Adams methods are\ninefficient. ODE.jl one again has a bad showing.\n\n## Interpolation Error\n\nNow we will look at the error using an interpolation measurement instead of at\nthe timestepping points. Since the DifferentialEquations.jl algorithms have\nhigher order interpolants than the ODE.jl algorithms, one would expect this\nwould magnify the difference. First the order 4/5 comparison:"
      ],
      "metadata": {}
    },
    {
      "outputs": [],
      "cell_type": "code",
      "source": [
        "setups = [Dict(:alg=>DP5())\n          #Dict(:alg=>ode45())\n          Dict(:alg=>Tsit5())]\nwp = WorkPrecisionSet(prob,abstols,reltols,setups;error_estimate=:L2,dense_errors=true,numruns=100)\nplot(wp)"
      ],
      "metadata": {},
      "execution_count": null
    },
    {
      "cell_type": "markdown",
      "source": [
        "Note that all of ODE.jl uses a 3rd order Hermite interpolation, while the\nDifferentialEquations algorithms interpolations which are specialized to the\nalgorithm. For example, `DP5` and `Tsit5` both use \"free\" order 4\ninterpolations, which are both as fast as the Hermite interpolation while\nachieving far less error. At higher order:"
      ],
      "metadata": {}
    },
    {
      "outputs": [],
      "cell_type": "code",
      "source": [
        "setups = [Dict(:alg=>DP5())\n          Dict(:alg=>Vern7())\n          #Dict(:alg=>ode78())\n          ]\nwp = WorkPrecisionSet(prob,abstols,reltols,setups;error_estimate=:L2,dense_errors=true,numruns=100)\nplot(wp)"
      ],
      "metadata": {},
      "execution_count": null
    },
    {
      "cell_type": "markdown",
      "source": [
        "## Comparison with Fixed Timestep RK4\n\nLet's run the first benchmark but add some fixed timestep RK4 methods to see\nthe difference:"
      ],
      "metadata": {}
    },
    {
      "outputs": [],
      "cell_type": "code",
      "source": [
        "abstols = 1.0 ./ 10.0 .^ (3:13)\nreltols = 1.0 ./ 10.0 .^ (0:10);\ndts = [1,1/2,1/4,1/10,1/20,1/40,1/60,1/80,1/100,1/140,1/240]\nsetups = [Dict(:alg=>DP5())\n          Dict(:alg=>ode45())\n          Dict(:alg=>dopri5())\n          Dict(:alg=>RK4(),:dts=>dts)\n          Dict(:alg=>Tsit5())]\nsolnames = [\"DifferentialEquations\";\"ODE\";\"ODEInterface\";\"DifferentialEquations RK4\";\"DifferentialEquations Tsit5\"]\nwp = WorkPrecisionSet(prob,abstols,reltols,setups;names=solnames,\n                      save_everystep=false,verbose=false,numruns=100)\nplot(wp)"
      ],
      "metadata": {},
      "execution_count": null
    },
    {
      "cell_type": "markdown",
      "source": [
        "## Comparison with Non-RK methods\n\nNow let's test Tsit5 and Vern9 against parallel extrapolation methods and an\nAdams-Bashforth-Moulton:"
      ],
      "metadata": {}
    },
    {
      "outputs": [],
      "cell_type": "code",
      "source": [
        "setups = [Dict(:alg=>Tsit5())\n          Dict(:alg=>Vern9())\n          Dict(:alg=>VCABM())\n          Dict(:alg=>AitkenNeville(min_order=1, max_order=9, init_order=4, threading=true))\n          Dict(:alg=>ExtrapolationMidpointDeuflhard(min_order=1, max_order=9, init_order=4, threading=true))\n          Dict(:alg=>ExtrapolationMidpointHairerWanner(min_order=2, max_order=11, init_order=4, threading=true))]\nsolnames = [\"Tsit5\",\"Vern9\",\"VCABM\",\"AitkenNeville\",\"Midpoint Deuflhard\",\"Midpoint Hairer Wanner\"]\nwp = WorkPrecisionSet(prob,abstols,reltols,setups;names=solnames,\n                      save_everystep=false,verbose=false,numruns=100)\nplot(wp)"
      ],
      "metadata": {},
      "execution_count": null
    },
    {
      "outputs": [],
      "cell_type": "code",
      "source": [
        "setups = [Dict(:alg=>ExtrapolationMidpointDeuflhard(min_order=1, max_order=9, init_order=9, threading=false))\n          Dict(:alg=>ExtrapolationMidpointHairerWanner(min_order=2, max_order=11, init_order=4, threading=false))\n          Dict(:alg=>ExtrapolationMidpointHairerWanner(min_order=2, max_order=11, init_order=4, threading=true))\n          Dict(:alg=>ExtrapolationMidpointHairerWanner(min_order=2, max_order=11, init_order=4, sequence = :romberg, threading=true))\n          Dict(:alg=>ExtrapolationMidpointHairerWanner(min_order=2, max_order=11, init_order=4, sequence = :bulirsch, threading=true))]\nsolnames = [\"Deuflhard\",\"No threads\",\"standard\",\"Romberg\",\"Bulirsch\"]\nwp = WorkPrecisionSet(prob,abstols,reltols,setups;names=solnames,\n                      save_everystep=false,verbose=false,numruns=100)\nplot(wp)"
      ],
      "metadata": {},
      "execution_count": null
    },
    {
      "outputs": [],
      "cell_type": "code",
      "source": [
        "setups = [Dict(:alg=>ExtrapolationMidpointHairerWanner(min_order=2, max_order=11, init_order=10, threading=true))\n          Dict(:alg=>ExtrapolationMidpointHairerWanner(min_order=2, max_order=11, init_order=4, threading=true))\n          Dict(:alg=>ExtrapolationMidpointHairerWanner(min_order=5, max_order=11, init_order=10, threading=true))\n          Dict(:alg=>ExtrapolationMidpointHairerWanner(min_order=2, max_order=15, init_order=10, threading=true))\n          Dict(:alg=>ExtrapolationMidpointHairerWanner(min_order=5, max_order=7, init_order=6, threading=true))]\nsolnames = [\"1\",\"2\",\"3\",\"4\",\"5\"]\nwp = WorkPrecisionSet(prob,abstols,reltols,setups;names=solnames,\n                      save_everystep=false,verbose=false,numruns=100)\nplot(wp)"
      ],
      "metadata": {},
      "execution_count": null
    },
    {
      "cell_type": "markdown",
      "source": [
        "## Conclusion\n\nDifferentialEquations's default choice of `Tsit5` does well for quick and easy\nsolving at normal tolerances. However, at low tolerances the higher order\nalgorithms are faster. In every case, the DifferentialEquations algorithms are\nfar in the lead, many times an order of magnitude faster than the competitors.\n`Vern7` with its included 7th order interpolation looks to be a good workhorse\nfor scientific computing in floating point range. These along with many other\nbenchmarks are why these algorithms were chosen as part of the defaults."
      ],
      "metadata": {}
    },
    {
      "outputs": [],
      "cell_type": "code",
      "source": [
        "using DiffEqBenchmarks\nDiffEqBenchmarks.bench_footer(WEAVE_ARGS[:folder],WEAVE_ARGS[:file])"
      ],
      "metadata": {},
      "execution_count": null
    }
  ],
  "nbformat_minor": 2,
  "metadata": {
    "language_info": {
      "file_extension": ".jl",
      "mimetype": "application/julia",
      "name": "julia",
      "version": "1.4.2"
    },
    "kernelspec": {
      "name": "julia-1.4",
      "display_name": "Julia 1.4.2",
      "language": "julia"
    }
  },
  "nbformat": 4
}
