{
  "cells": [
    {
      "cell_type": "markdown",
      "source": [
        "# Fitzhugh-Nagumo\n\nThe purpose of this is to see how the errors scale on a standard nonlinear problem."
      ],
      "metadata": {}
    },
    {
      "outputs": [],
      "cell_type": "code",
      "source": [
        "using OrdinaryDiffEq, ParameterizedFunctions, ODE, ODEInterface,\n      ODEInterfaceDiffEq, LSODA, Sundials, DiffEqDevTools\n\nf = @ode_def FitzhughNagumo begin\n  dv = v - v^3/3 -w + l\n  dw = τinv*(v +  a - b*w)\nend a b τinv l\n\np = [0.7,0.8,1/12.5,0.5]\nprob = ODEProblem(f,[1.0;1.0],(0.0,10.0),p)\n\nabstols = 1.0 ./ 10.0 .^ (6:13)\nreltols = 1.0 ./ 10.0 .^ (3:10);\n\nsol = solve(prob,Vern7(),abstol=1/10^14,reltol=1/10^14)\ntest_sol = TestSolution(sol)\nusing Plots; gr()"
      ],
      "metadata": {},
      "execution_count": null
    },
    {
      "outputs": [],
      "cell_type": "code",
      "source": [
        "plot(sol)"
      ],
      "metadata": {},
      "execution_count": null
    },
    {
      "cell_type": "markdown",
      "source": [
        "## Low Order"
      ],
      "metadata": {}
    },
    {
      "outputs": [],
      "cell_type": "code",
      "source": [
        "setups = [Dict(:alg=>DP5())\n          #Dict(:alg=>ode45()) #fails\n          Dict(:alg=>dopri5())\n          Dict(:alg=>BS5())\n          Dict(:alg=>Tsit5())\n          Dict(:alg=>Vern6())\n]\nwp = WorkPrecisionSet(prob,abstols,reltols,setups;appxsol=test_sol,save_everystep=false,numruns=100,maxiters=1000)\nplot(wp)"
      ],
      "metadata": {},
      "execution_count": null
    },
    {
      "cell_type": "markdown",
      "source": [
        "### Interpolation"
      ],
      "metadata": {}
    },
    {
      "outputs": [],
      "cell_type": "code",
      "source": [
        "setups = [Dict(:alg=>DP5())\n          #Dict(:alg=>ode45()) # fails\n          Dict(:alg=>BS5())\n          Dict(:alg=>Tsit5())\n          Dict(:alg=>Vern6())\n]\nwp = WorkPrecisionSet(prob,abstols,reltols,setups;appxsol=test_sol,numruns=100,maxiters=10000,error_estimate=:L2,dense_errors=true)\nplot(wp)"
      ],
      "metadata": {},
      "execution_count": null
    },
    {
      "cell_type": "markdown",
      "source": [
        "## Higher Order"
      ],
      "metadata": {}
    },
    {
      "outputs": [],
      "cell_type": "code",
      "source": [
        "setups = [Dict(:alg=>DP8())\n          #Dict(:alg=>ode78()) # fails\n          Dict(:alg=>Vern7())\n          Dict(:alg=>Vern8())\n          Dict(:alg=>dop853())\n          Dict(:alg=>Vern6())\n]\nwp = WorkPrecisionSet(prob,abstols,reltols,setups;appxsol=test_sol,save_everystep=false,numruns=100,maxiters=1000)\nplot(wp)"
      ],
      "metadata": {},
      "execution_count": null
    },
    {
      "outputs": [],
      "cell_type": "code",
      "source": [
        "setups = [Dict(:alg=>DP8())\n          Dict(:alg=>Vern7())\n          Dict(:alg=>CVODE_Adams())\n          Dict(:alg=>ARKODE(Sundials.Explicit(),order=6))\n          Dict(:alg=>lsoda())\n          Dict(:alg=>odex())\n          Dict(:alg=>ddeabm())\n]\nwp = WorkPrecisionSet(prob,abstols,reltols,setups;appxsol=test_sol,save_everystep=false,numruns=100,maxiters=1000)\nplot(wp)"
      ],
      "metadata": {},
      "execution_count": null
    },
    {
      "cell_type": "markdown",
      "source": [
        "### Interpolation"
      ],
      "metadata": {}
    },
    {
      "outputs": [],
      "cell_type": "code",
      "source": [
        "setups = [Dict(:alg=>DP8())\n          #Dict(:alg=>ode78()) # fails\n          Dict(:alg=>Vern7())\n          Dict(:alg=>Vern8())\n          Dict(:alg=>Vern6())\n]\nwp = WorkPrecisionSet(prob,abstols,reltols,setups;appxsol=test_sol,numruns=100,maxiters=1000,error_estimate=:L2,dense_errors=true)\nplot(wp)"
      ],
      "metadata": {},
      "execution_count": null
    },
    {
      "cell_type": "markdown",
      "source": [
        "## Comparison with Non-RK methods\n\nNow let's test Tsit5 and Vern9 against parallel extrapolation methods and an\nAdams-Bashforth-Moulton:"
      ],
      "metadata": {}
    },
    {
      "outputs": [],
      "cell_type": "code",
      "source": [
        "setups = [Dict(:alg=>Tsit5())\n          Dict(:alg=>Vern9())\n          Dict(:alg=>VCABM())\n          Dict(:alg=>AitkenNeville(min_order=1, max_order=9, init_order=4, threading=true))\n          Dict(:alg=>ExtrapolationMidpointDeuflhard(min_order=1, max_order=9, init_order=4, threading=true))\n          Dict(:alg=>ExtrapolationMidpointHairerWanner(min_order=2, max_order=11, init_order=4, threading=true))]\nsolnames = [\"Tsit5\",\"Vern9\",\"VCABM\",\"AitkenNeville\",\"Midpoint Deuflhard\",\"Midpoint Hairer Wanner\"]\nwp = WorkPrecisionSet(prob,abstols,reltols,setups;appxsol=test_sol,names=solnames,\n                      save_everystep=false,verbose=false,numruns=100)\nplot(wp)"
      ],
      "metadata": {},
      "execution_count": null
    },
    {
      "outputs": [],
      "cell_type": "code",
      "source": [
        "setups = [Dict(:alg=>ExtrapolationMidpointDeuflhard(min_order=1, max_order=9, init_order=9, threading=false))\n          Dict(:alg=>ExtrapolationMidpointHairerWanner(min_order=2, max_order=11, init_order=4, threading=false))\n          Dict(:alg=>ExtrapolationMidpointHairerWanner(min_order=2, max_order=11, init_order=4, threading=true))\n          Dict(:alg=>ExtrapolationMidpointHairerWanner(min_order=2, max_order=11, init_order=4, sequence = :romberg, threading=true))\n          Dict(:alg=>ExtrapolationMidpointHairerWanner(min_order=2, max_order=11, init_order=4, sequence = :bulirsch, threading=true))]\nsolnames = [\"Deuflhard\",\"No threads\",\"standard\",\"Romberg\",\"Bulirsch\"]\nwp = WorkPrecisionSet(prob,abstols,reltols,setups;appxsol=test_sol,names=solnames,\n                      save_everystep=false,verbose=false,numruns=100)\nplot(wp)"
      ],
      "metadata": {},
      "execution_count": null
    },
    {
      "outputs": [],
      "cell_type": "code",
      "source": [
        "setups = [Dict(:alg=>ExtrapolationMidpointHairerWanner(min_order=2, max_order=11, init_order=10, threading=true))\n          Dict(:alg=>ExtrapolationMidpointHairerWanner(min_order=2, max_order=11, init_order=4, threading=true))\n          Dict(:alg=>ExtrapolationMidpointHairerWanner(min_order=5, max_order=11, init_order=10, threading=true))\n          Dict(:alg=>ExtrapolationMidpointHairerWanner(min_order=2, max_order=15, init_order=10, threading=true))\n          Dict(:alg=>ExtrapolationMidpointHairerWanner(min_order=5, max_order=7, init_order=6, threading=true))]\nsolnames = [\"1\",\"2\",\"3\",\"4\",\"5\"]\nwp = WorkPrecisionSet(prob,abstols,reltols,setups;appxsol=test_sol,names=solnames,\n                      save_everystep=false,verbose=false,numruns=100)\nplot(wp)"
      ],
      "metadata": {},
      "execution_count": null
    },
    {
      "cell_type": "markdown",
      "source": [
        "## Conclusion\n\nAs expected, the algorithms are all pretty matched on time for this problem. However, you can clearly see the OrdinaryDiffEq.jl algorithms solving to a much higher accuracy and still faster, especially when the interpolations are involved."
      ],
      "metadata": {}
    },
    {
      "outputs": [],
      "cell_type": "code",
      "source": [
        "using SciMLBenchmarks\nSciMLBenchmarks.bench_footer(WEAVE_ARGS[:folder],WEAVE_ARGS[:file])"
      ],
      "metadata": {},
      "execution_count": null
    }
  ],
  "nbformat_minor": 2,
  "metadata": {
    "language_info": {
      "file_extension": ".jl",
      "mimetype": "application/julia",
      "name": "julia",
      "version": "1.6.1"
    },
    "kernelspec": {
      "name": "julia-1.6",
      "display_name": "Julia 1.6.1",
      "language": "julia"
    }
  },
  "nbformat": 4
}
