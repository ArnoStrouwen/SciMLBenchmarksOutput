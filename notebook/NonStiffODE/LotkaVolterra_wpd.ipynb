{
  "cells": [
    {
      "cell_type": "markdown",
      "source": [
        "## Lotka-Volterra\n\nThe purpose of this problem is to test the performance on easy problems. Since it's periodic, the error is naturally low, and so most of the difference will come down to startup times and, when measuring the interpolations, the algorithm choices."
      ],
      "metadata": {}
    },
    {
      "outputs": [],
      "cell_type": "code",
      "source": [
        "using OrdinaryDiffEq, ParameterizedFunctions, ODE, ODEInterfaceDiffEq, LSODA,\n      Sundials, DiffEqDevTools\n\nf = @ode_def LotkaVolterra begin\n  dx = a*x - b*x*y\n  dy = -c*y + d*x*y\nend a b c d\n\np = [1.5,1.0,3.0,1.0]\nprob = ODEProblem(f,[1.0;1.0],(0.0,10.0),p)\n\nabstols = 1.0 ./ 10.0 .^ (6:13)\nreltols = 1.0 ./ 10.0 .^ (3:10);\nsol = solve(prob,Vern7(),abstol=1/10^14,reltol=1/10^14)\ntest_sol = TestSolution(sol)\nusing Plots; gr()"
      ],
      "metadata": {},
      "execution_count": null
    },
    {
      "outputs": [],
      "cell_type": "code",
      "source": [
        "plot(sol)"
      ],
      "metadata": {},
      "execution_count": null
    },
    {
      "cell_type": "markdown",
      "source": [
        "### Low Order"
      ],
      "metadata": {}
    },
    {
      "outputs": [],
      "cell_type": "code",
      "source": [
        "setups = [Dict(:alg=>DP5())\n          #Dict(:alg=>ode45()) # fail\n          Dict(:alg=>dopri5())\n          Dict(:alg=>Tsit5())\n          Dict(:alg=>Vern6())\n]\nwp = WorkPrecisionSet(prob,abstols,reltols,setups;appxsol=test_sol,save_everystep=false,maxiters=10000,numruns=100)\nplot(wp)"
      ],
      "metadata": {},
      "execution_count": null
    },
    {
      "cell_type": "markdown",
      "source": [
        "Here we see the OrdinaryDiffEq.jl algorithms once again far in the lead.\n\n### Interpolation Error\n\nSince the problem is periodic, the real measure of error is the error throughout the solution."
      ],
      "metadata": {}
    },
    {
      "outputs": [],
      "cell_type": "code",
      "source": [
        "setups = [Dict(:alg=>DP5())\n          #Dict(:alg=>ode45())\n          Dict(:alg=>Tsit5())\n          Dict(:alg=>Vern6())\n]\nwp = WorkPrecisionSet(prob,abstols,reltols,setups;appxsol=test_sol,maxiters=10000,error_estimate=:L2,dense_errors=true,numruns=100)\nplot(wp)"
      ],
      "metadata": {},
      "execution_count": null
    },
    {
      "cell_type": "markdown",
      "source": [
        "Here we see the power of algorithm specific interpolations. The ODE.jl algorithm is only able to reach $10^{-7}$ error even at a tolerance of $10^{-13}$, while the DifferentialEquations.jl algorithms are below $10^{-10}$\n\n## Higher Order"
      ],
      "metadata": {}
    },
    {
      "outputs": [],
      "cell_type": "code",
      "source": [
        "setups = [Dict(:alg=>DP8())\n          #Dict(:alg=>ode78()) # fails\n          Dict(:alg=>Vern7())\n          Dict(:alg=>Vern8())\n          Dict(:alg=>dop853())\n          Dict(:alg=>Vern6())\n]\nwp = WorkPrecisionSet(prob,abstols,reltols,setups;appxsol=test_sol,save_everystep=false,maxiters=1000,numruns=100)\nplot(wp)"
      ],
      "metadata": {},
      "execution_count": null
    },
    {
      "outputs": [],
      "cell_type": "code",
      "source": [
        "setups = [Dict(:alg=>odex())\n          Dict(:alg=>ddeabm())\n          Dict(:alg=>Vern7())\n          Dict(:alg=>Vern8())\n          Dict(:alg=>CVODE_Adams())\n          Dict(:alg=>lsoda())\n          Dict(:alg=>Vern6())\n          Dict(:alg=>ARKODE(Sundials.Explicit(),order=6))\n          ]\nwp = WorkPrecisionSet(prob,abstols,reltols,setups;appxsol=test_sol,save_everystep=false,maxiters=1000,numruns=100)\nplot(wp)"
      ],
      "metadata": {},
      "execution_count": null
    },
    {
      "cell_type": "markdown",
      "source": [
        "Again we look at interpolations:"
      ],
      "metadata": {}
    },
    {
      "outputs": [],
      "cell_type": "code",
      "source": [
        "setups = [Dict(:alg=>DP8())\n          #Dict(:alg=>ode78())\n          Dict(:alg=>Vern7())\n          Dict(:alg=>Vern8())\n          Dict(:alg=>Vern6())\n]\nwp = WorkPrecisionSet(prob,abstols,reltols,setups;appxsol=test_sol,dense=true,maxiters=1000,error_estimate=:L2,numruns=100)\nplot(wp)"
      ],
      "metadata": {},
      "execution_count": null
    },
    {
      "cell_type": "markdown",
      "source": [
        "Again, the ODE.jl algorithms suffer when measuring the interpolations due to relying on an order 3 Hermite polynomial instead of an algorithm-specific order matching interpolation which uses the timesteps.\n\n## Comparison with Non-RK methods\n\nNow let's test Tsit5 and Vern9 against parallel extrapolation methods and an\nAdams-Bashforth-Moulton:"
      ],
      "metadata": {}
    },
    {
      "outputs": [],
      "cell_type": "code",
      "source": [
        "setups = [Dict(:alg=>Tsit5())\n          Dict(:alg=>Vern9())\n          Dict(:alg=>VCABM())\n          Dict(:alg=>AitkenNeville(min_order=1, max_order=9, init_order=4, threading=true))\n          Dict(:alg=>ExtrapolationMidpointDeuflhard(min_order=1, max_order=9, init_order=4, threading=true))\n          Dict(:alg=>ExtrapolationMidpointHairerWanner(min_order=2, max_order=11, init_order=4, threading=true))]\nsolnames = [\"Tsit5\",\"Vern9\",\"VCABM\",\"AitkenNeville\",\"Midpoint Deuflhard\",\"Midpoint Hairer Wanner\"]\nwp = WorkPrecisionSet(prob,abstols,reltols,setups;appxsol=test_sol,names=solnames,\n                      save_everystep=false,verbose=false,numruns=100)\nplot(wp)"
      ],
      "metadata": {},
      "execution_count": null
    },
    {
      "outputs": [],
      "cell_type": "code",
      "source": [
        "setups = [Dict(:alg=>ExtrapolationMidpointDeuflhard(min_order=1, max_order=9, init_order=9, threading=false))\n          Dict(:alg=>ExtrapolationMidpointHairerWanner(min_order=2, max_order=11, init_order=4, threading=false))\n          Dict(:alg=>ExtrapolationMidpointHairerWanner(min_order=2, max_order=11, init_order=4, threading=true))\n          Dict(:alg=>ExtrapolationMidpointHairerWanner(min_order=2, max_order=11, init_order=4, sequence = :romberg, threading=true))\n          Dict(:alg=>ExtrapolationMidpointHairerWanner(min_order=2, max_order=11, init_order=4, sequence = :bulirsch, threading=true))]\nsolnames = [\"Deuflhard\",\"No threads\",\"standard\",\"Romberg\",\"Bulirsch\"]\nwp = WorkPrecisionSet(prob,abstols,reltols,setups;appxsol=test_sol,names=solnames,\n                      save_everystep=false,verbose=false,numruns=100)\nplot(wp)"
      ],
      "metadata": {},
      "execution_count": null
    },
    {
      "outputs": [],
      "cell_type": "code",
      "source": [
        "setups = [Dict(:alg=>ExtrapolationMidpointHairerWanner(min_order=2, max_order=11, init_order=10, threading=true))\n          Dict(:alg=>ExtrapolationMidpointHairerWanner(min_order=2, max_order=11, init_order=4, threading=true))\n          Dict(:alg=>ExtrapolationMidpointHairerWanner(min_order=5, max_order=11, init_order=10, threading=true))\n          Dict(:alg=>ExtrapolationMidpointHairerWanner(min_order=2, max_order=15, init_order=10, threading=true))\n          Dict(:alg=>ExtrapolationMidpointHairerWanner(min_order=5, max_order=7, init_order=6, threading=true))]\nsolnames = [\"1\",\"2\",\"3\",\"4\",\"5\"]\nwp = WorkPrecisionSet(prob,abstols,reltols,setups;appxsol=test_sol,names=solnames,\n                      save_everystep=false,verbose=false,numruns=100)\nplot(wp)"
      ],
      "metadata": {},
      "execution_count": null
    },
    {
      "cell_type": "markdown",
      "source": [
        "## Conclusion\n\nThe OrdinaryDiffEq.jl are quicker and still solve to a much higher accuracy, especially when the interpolations are involved. ODE.jl errors a lot."
      ],
      "metadata": {}
    },
    {
      "outputs": [],
      "cell_type": "code",
      "source": [
        "using SciMLBenchmarks\nSciMLBenchmarks.bench_footer(WEAVE_ARGS[:folder],WEAVE_ARGS[:file])"
      ],
      "metadata": {},
      "execution_count": null
    }
  ],
  "nbformat_minor": 2,
  "metadata": {
    "language_info": {
      "file_extension": ".jl",
      "mimetype": "application/julia",
      "name": "julia",
      "version": "1.4.2"
    },
    "kernelspec": {
      "name": "julia-1.4",
      "display_name": "Julia 1.4.2",
      "language": "julia"
    }
  },
  "nbformat": 4
}
