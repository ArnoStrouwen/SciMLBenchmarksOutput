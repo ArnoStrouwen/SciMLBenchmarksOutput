{
  "cells": [
    {
      "outputs": [],
      "cell_type": "code",
      "source": [
        "using OrdinaryDiffEq, ODE, ODEInterfaceDiffEq, LSODA, Sundials, DiffEqDevTools, Plots; gr()\n\n## Define the ThreeBody Problem\nconst threebody_μ = parse(Float64,\"0.012277471\")\nconst threebody_μ′ = 1 - threebody_μ\n\nf = (du,u,p,t) -> begin\n  @inbounds begin\n  # 1 = y₁\n  # 2 = y₂\n  # 3 = y₁'\n  # 4 = y₂'\n  D₁ = ((u[1]+threebody_μ)^2 + u[2]^2)^(3/2)\n  D₂ = ((u[1]-threebody_μ′)^2 + u[2]^2)^(3/2)\n  du[1] = u[3]\n  du[2] = u[4]\n  du[3] = u[1] + 2u[4] - threebody_μ′*(u[1]+threebody_μ)/D₁ - threebody_μ*(u[1]-threebody_μ′)/D₂\n  du[4] = u[2] - 2u[3] - threebody_μ′*u[2]/D₁ - threebody_μ*u[2]/D₂\n  end\nend\n\nt₀ = 0.0; T = parse(Float64,\"17.0652165601579625588917206249\")\ntspan = (t₀,2T)\n\nprob = ODEProblem(f,[0.994, 0.0, 0.0, parse(Float64,\"-2.00158510637908252240537862224\")],tspan)\n\ntest_sol = TestSolution(T,[prob.u0])\nabstols = 1.0 ./ 10.0 .^ (3:13); reltols = 1.0 ./ 10.0 .^ (0:10);"
      ],
      "metadata": {},
      "execution_count": null
    },
    {
      "cell_type": "markdown",
      "source": [
        "See that it's periodic in the chosen timespan:"
      ],
      "metadata": {}
    },
    {
      "outputs": [],
      "cell_type": "code",
      "source": [
        "sol = solve(prob,Vern9(),abstol=1e-14,reltol=1e-14)\n@show sol[1] - sol[end]\n@show sol[end] - prob.u0;"
      ],
      "metadata": {},
      "execution_count": null
    },
    {
      "outputs": [],
      "cell_type": "code",
      "source": [
        "apr = appxtrue(sol,test_sol)\n@show sol[end]\n@show apr.u[end]\n@show apr.errors"
      ],
      "metadata": {},
      "execution_count": null
    },
    {
      "cell_type": "markdown",
      "source": [
        "This three-body problem is known to be a tough problem. Let's see how the algorithms fair at standard tolerances.\n\n### 5th Order Runge-Kutta Methods"
      ],
      "metadata": {}
    },
    {
      "outputs": [],
      "cell_type": "code",
      "source": [
        "setups = [Dict(:alg=>DP5())\n          #Dict(:alg=>ode45()) #fails\n          Dict(:alg=>BS5())\n          Dict(:alg=>Tsit5())\n          Dict(:alg=>dopri5())];\nwp = WorkPrecisionSet(prob,abstols,reltols,setups;appxsol=test_sol,save_everystep=false,numruns=100)\nplot(wp)"
      ],
      "metadata": {},
      "execution_count": null
    },
    {
      "cell_type": "markdown",
      "source": [
        "#### Full save, but no dense"
      ],
      "metadata": {}
    },
    {
      "outputs": [],
      "cell_type": "code",
      "source": [
        "setups = [Dict(:alg=>DP5(),:dense=>false)\n          #Dict(:alg=>ode45()) # Fails\n          Dict(:alg=>BS5(),:dense=>false)\n          Dict(:alg=>Tsit5(),:dense=>false)\n          Dict(:alg=>dopri5())];\nwp = WorkPrecisionSet(prob,abstols,reltols,setups;appxsol=test_sol,numruns=100)\nplot(wp)"
      ],
      "metadata": {},
      "execution_count": null
    },
    {
      "cell_type": "markdown",
      "source": [
        "#### Dense"
      ],
      "metadata": {}
    },
    {
      "outputs": [],
      "cell_type": "code",
      "source": [
        "setups = [Dict(:alg=>DP5())\n          #Dict(:alg=>ode45()) #fails\n          Dict(:alg=>BS5())\n          Dict(:alg=>Tsit5())\n          Dict(:alg=>dopri5())];\nwp = WorkPrecisionSet(prob,abstols,reltols,setups;appxsol=test_sol,numruns=100)\nplot(wp)"
      ],
      "metadata": {},
      "execution_count": null
    },
    {
      "cell_type": "markdown",
      "source": [
        "In these tests we see that most of the algorithms are close,with `BS5` and `DP5` showing much better than `Tsit5`. `ode45` errors.\n\n### Higher Order Algorithms"
      ],
      "metadata": {}
    },
    {
      "outputs": [],
      "cell_type": "code",
      "source": [
        "setups = [Dict(:alg=>DP5())\n          Dict(:alg=>Vern6())\n          Dict(:alg=>Vern7())\n          Dict(:alg=>TanYam7())\n          Dict(:alg=>Vern8())\n          Dict(:alg=>DP8())\n          Dict(:alg=>dop853())\n          Dict(:alg=>Vern9())];\nwp = WorkPrecisionSet(prob,abstols,reltols,setups;appxsol=test_sol,save_everystep=false,numruns=100)\nplot(wp)"
      ],
      "metadata": {},
      "execution_count": null
    },
    {
      "outputs": [],
      "cell_type": "code",
      "source": [
        "setups = [Dict(:alg=>DP5())\n          Dict(:alg=>Vern6())\n          Dict(:alg=>Vern7())\n          Dict(:alg=>TanYam7())\n          Dict(:alg=>Vern8())\n          Dict(:alg=>DP8())\n          Dict(:alg=>dop853())\n          Dict(:alg=>Vern9())];\nwp = WorkPrecisionSet(prob,abstols,reltols,setups;appxsol=test_sol,dense=false,numruns=100,verbose=false)\nplot(wp)"
      ],
      "metadata": {},
      "execution_count": null
    },
    {
      "outputs": [],
      "cell_type": "code",
      "source": [
        "setups = [Dict(:alg=>DP5())\n          Dict(:alg=>Vern6())\n          Dict(:alg=>Vern7())\n          Dict(:alg=>TanYam7())\n          Dict(:alg=>Vern8())\n          Dict(:alg=>DP8())\n          Dict(:alg=>dop853())\n          Dict(:alg=>Vern9())];\nwp = WorkPrecisionSet(prob,abstols,reltols,setups;appxsol=test_sol,numruns=100)\nplot(wp)"
      ],
      "metadata": {},
      "execution_count": null
    },
    {
      "cell_type": "markdown",
      "source": [
        "In this test we see `Vern7` and `Vern8` shine.\n\n### Other Algorithms\n\nOnce again we separate ODE.jl because it fails. We also separate Sundials' `CVODE_Adams` since it fails at high tolerances."
      ],
      "metadata": {}
    },
    {
      "outputs": [],
      "cell_type": "code",
      "source": [
        "#setups = [Dict(:alg=>ode78())\n#          Dict(:alg=>VCABM())\n#          Dict(:alg=>CVODE_Adams())];\n#wp = WorkPrecisionSet(prob,abstols,reltols,setups;appxsol=test_sol,dense=false,numruns=100)"
      ],
      "metadata": {},
      "execution_count": null
    },
    {
      "outputs": [],
      "cell_type": "code",
      "source": [
        "setups = [Dict(:alg=>DP5())\n          Dict(:alg=>lsoda())\n          Dict(:alg=>Vern8())\n          Dict(:alg=>ddeabm())\n          Dict(:alg=>odex())\n          Dict(:alg=>ARKODE(Sundials.Explicit(),order=6))\n    ];\nwp = WorkPrecisionSet(prob,abstols,reltols,setups;appxsol=test_sol,save_everystep=false,numruns=100)\nplot(wp)"
      ],
      "metadata": {},
      "execution_count": null
    },
    {
      "cell_type": "markdown",
      "source": [
        "Again, on cheap function calculations the Adams methods are shown to not be efficient once the error is sufficiently small. Also, as seen in other places, the extrapolation methods do not fare as well as the Runge-Kutta methods.\n\n## Comparison with Non-RK methods\n\nNow let's test Tsit5 and Vern9 against parallel extrapolation methods and an\nAdams-Bashforth-Moulton:"
      ],
      "metadata": {}
    },
    {
      "outputs": [],
      "cell_type": "code",
      "source": [
        "abstols = 1.0 ./ 10.0 .^ (3:13); reltols = 1.0 ./ 10.0 .^ (0:10);\nsetups = [Dict(:alg=>Tsit5())\n          Dict(:alg=>Vern9())\n          Dict(:alg=>AitkenNeville(min_order=1, max_order=9, init_order=4, threading=true))\n          Dict(:alg=>ExtrapolationMidpointDeuflhard(min_order=1, max_order=9, init_order=4, threading=true))\n          Dict(:alg=>ExtrapolationMidpointHairerWanner(min_order=2, max_order=11, init_order=4, threading=true))]\nsolnames = [\"Tsit5\",\"Vern9\",\"AitkenNeville\",\"Midpoint Deuflhard\",\"Midpoint Hairer Wanner\"]\nwp = WorkPrecisionSet(prob,abstols,reltols,setups;appxsol=test_sol,names=solnames,\n                      save_everystep=false,verbose=false,numruns=100)\nplot(wp)"
      ],
      "metadata": {},
      "execution_count": null
    },
    {
      "outputs": [],
      "cell_type": "code",
      "source": [
        "setups = [Dict(:alg=>ExtrapolationMidpointDeuflhard(min_order=1, max_order=9, init_order=9, threading=false))\n          Dict(:alg=>ExtrapolationMidpointHairerWanner(min_order=2, max_order=11, init_order=4, threading=false))\n          Dict(:alg=>ExtrapolationMidpointHairerWanner(min_order=2, max_order=11, init_order=4, threading=true))\n          Dict(:alg=>ExtrapolationMidpointHairerWanner(min_order=2, max_order=11, init_order=4, sequence = :romberg, threading=true))\n          Dict(:alg=>ExtrapolationMidpointHairerWanner(min_order=2, max_order=11, init_order=4, sequence = :bulirsch, threading=true))]\nsolnames = [\"Deuflhard\",\"No threads\",\"standard\",\"Romberg\",\"Bulirsch\"]\nwp = WorkPrecisionSet(prob,abstols,reltols,setups;appxsol=test_sol,names=solnames,\n                      save_everystep=false,verbose=false,numruns=100)\nplot(wp)"
      ],
      "metadata": {},
      "execution_count": null
    },
    {
      "outputs": [],
      "cell_type": "code",
      "source": [
        "setups = [Dict(:alg=>ExtrapolationMidpointHairerWanner(min_order=2, max_order=11, init_order=10, threading=true))\n          Dict(:alg=>ExtrapolationMidpointHairerWanner(min_order=2, max_order=11, init_order=4, threading=true))\n          Dict(:alg=>ExtrapolationMidpointHairerWanner(min_order=5, max_order=11, init_order=10, threading=true))\n          Dict(:alg=>ExtrapolationMidpointHairerWanner(min_order=2, max_order=15, init_order=10, threading=true))\n          Dict(:alg=>ExtrapolationMidpointHairerWanner(min_order=5, max_order=7, init_order=6, threading=true))]\nsolnames = [\"1\",\"2\",\"3\",\"4\",\"5\"]\nwp = WorkPrecisionSet(prob,abstols,reltols,setups;appxsol=test_sol,names=solnames,\n                      save_everystep=false,verbose=false,numruns=100)\nplot(wp)"
      ],
      "metadata": {},
      "execution_count": null
    },
    {
      "cell_type": "markdown",
      "source": [
        "### Conclusion\n\nAs in the other tests, the OrdinaryDiffEq.jl algorithms with the Verner Efficient methods are the most efficient solvers at stringent tolerances for most of the tests, while the order 5 methods do well at cruder tolerances. ODE.jl fails to run the test problems without erroring."
      ],
      "metadata": {}
    },
    {
      "outputs": [],
      "cell_type": "code",
      "source": [
        "using SciMLBenchmarks\nSciMLBenchmarks.bench_footer(WEAVE_ARGS[:folder],WEAVE_ARGS[:file])"
      ],
      "metadata": {},
      "execution_count": null
    }
  ],
  "nbformat_minor": 2,
  "metadata": {
    "language_info": {
      "file_extension": ".jl",
      "mimetype": "application/julia",
      "name": "julia",
      "version": "1.6.1"
    },
    "kernelspec": {
      "name": "julia-1.6",
      "display_name": "Julia 1.6.1",
      "language": "julia"
    }
  },
  "nbformat": 4
}
