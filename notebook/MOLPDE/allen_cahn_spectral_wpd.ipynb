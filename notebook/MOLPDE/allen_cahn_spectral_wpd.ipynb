{
  "cells": [
    {
      "cell_type": "markdown",
      "source": [
        "# Allen-Cahn Pseudospectral Methods Work-Precision Diagrams\n### HAO HAO"
      ],
      "metadata": {}
    },
    {
      "outputs": [],
      "cell_type": "code",
      "source": [
        "using ApproxFun, OrdinaryDiffEq, Sundials, BenchmarkTools, DiffEqOperators\nusing DiffEqDevTools\nusing LinearAlgebra\nusing Plots; gr()"
      ],
      "metadata": {},
      "execution_count": null
    },
    {
      "cell_type": "markdown",
      "source": [
        "Here is the Allen-Cahn equation using Chebyshev spectral methods."
      ],
      "metadata": {}
    },
    {
      "outputs": [],
      "cell_type": "code",
      "source": [
        "function cheb(N)\n    N==0 && return (0,1)\n    x = cos.(pi*(0:N)/N)\n    c = [2; ones(N-1,1); 2].*(-1).^(0:N)\n    X = hcat([x for i in 1:N+1]...)\n    dX = X-X'\n    D  = (c*(1 ./c)')./(dX+I)      # off-diagonal entries\n    D  = D .- Diagonal(vec(sum(D,dims=2)))                 # diagonal entries\n    D,x\nend\nN = 128\nChebD2,x = cheb(N)\nxx = x\nx = x[2:N]\nw = .53*x + .47*sin.(-1.5*pi*x) - x # use w = u-x to make BCs homogeneous\nu = [1;w+x;-1]\n\nϵ=0.01\nD2=ϵ*(ChebD2^2)[2:N, 2:N]\nfunction allen_cahn(du,u,x,t)\n    @. du = (u + x) - (u + x)^3\nend"
      ],
      "metadata": {},
      "execution_count": null
    },
    {
      "cell_type": "markdown",
      "source": [
        "Reference solution using RadauIIA5 is below:"
      ],
      "metadata": {}
    },
    {
      "outputs": [],
      "cell_type": "code",
      "source": [
        "prob = SplitODEProblem(DiffEqArrayOperator(D2), allen_cahn, w, (0.0,5.0), x)\nsol  = solve(prob, RadauIIA5(autodiff=false); reltol=1e-14,abstol=1e-14)\ntest_sol = TestSolution(sol)\n\ntslices=[0.0 1.0 2.0 3.0 5.0]\nys=hcat(([1;x.+sol(t);-1] for t in tslices)...)\nlabels=[\"t=$t\" for t in tslices]\nplot(xx,ys,label=labels)"
      ],
      "metadata": {},
      "execution_count": null
    },
    {
      "cell_type": "markdown",
      "source": [
        "## High tolerances\n\n## In-family comparisons\n\n1.IMEX methods (dense linear solver)"
      ],
      "metadata": {}
    },
    {
      "outputs": [],
      "cell_type": "code",
      "source": [
        "abstols = 0.1 .^ (5:8)\nreltols = 0.1 .^ (1:4)\nmultipliers =  0.5 .^ (0:3)\nsetups = [Dict(:alg => IMEXEuler(), :dts => 1e-3 * multipliers),\n          Dict(:alg => CNAB2(), :dts => 5e-3 * multipliers),\n          Dict(:alg => CNLF2(), :dts => 5e-4 * multipliers),\n          Dict(:alg => SBDF2(), :dts => 1e-3 * multipliers)]\nlabels = [\"IMEXEuler\" \"CNAB2\" \"CNLF2\" \"SBDF2\"]\n@time wp1 = WorkPrecisionSet(prob,abstols,reltols,setups;\n                            print_names=true,names=labels,\n                            numruns=5,seconds=5,\n                            save_everystop=false,appxsol=test_sol,maxiters=Int(1e5));\n\nplot(wp1,label=labels,markershape=:auto,title=\"IMEX methods, dense linsolve, low order\")"
      ],
      "metadata": {},
      "execution_count": null
    },
    {
      "cell_type": "markdown",
      "source": [
        "1.IMEX methods (Krylov linear solver)"
      ],
      "metadata": {}
    },
    {
      "outputs": [],
      "cell_type": "code",
      "source": [
        "abstols = 0.1 .^ (5:8) # all fixed dt methods so these don't matter much\nreltols = 0.1 .^ (1:4)\nmultipliers = 0.5 .^ (0:3)\nsetups = [Dict(:alg => IMEXEuler(linsolve=LinSolveGMRES()), :dts => 1e-3 * multipliers),\n          Dict(:alg => CNAB2(linsolve=LinSolveGMRES()), :dts => 5e-3 * multipliers),\n          Dict(:alg => CNLF2(linsolve=LinSolveGMRES()), :dts => 5e-4 * multipliers),\n          Dict(:alg => SBDF2(linsolve=LinSolveGMRES()), :dts => 1e-3 * multipliers)]\nlabels = [\"IMEXEuler\" \"CNAB2\" \"CNLF2\" \"SBDF2\"]\n@time wp1 = WorkPrecisionSet(prob,abstols,reltols,setups;\n                            print_names=true, names=labels,\n                            numruns=5, error_estimate=:l2,\n                            save_everystep=false, appxsol=test_sol, maxiters=Int(1e5));\n\nplot(wp1, label=labels, markershape=:auto, title=\"IMEX methods, Krylov linsolve, low order\")"
      ],
      "metadata": {},
      "execution_count": null
    },
    {
      "cell_type": "markdown",
      "source": [
        "2. ExpRK methods"
      ],
      "metadata": {}
    },
    {
      "outputs": [],
      "cell_type": "code",
      "source": [
        "abstols = 0.1 .^ (5:8) # all fixed dt methods so these don't matter much\nreltols = 0.1 .^ (1:4)\nmultipliers = 0.5 .^ (0:3)\nsetups = [Dict(:alg => NorsettEuler(), :dts => 1e-3 * multipliers),\n          Dict(:alg => NorsettEuler(krylov=true, m=5), :dts => 1e-3 * multipliers),\n          Dict(:alg => NorsettEuler(krylov=true, m=20), :dts => 1e-3 * multipliers),\n          Dict(:alg => ETDRK2(), :dts => 1e-2 * multipliers),\n          Dict(:alg => ETDRK2(krylov=true, m=5), :dts => 1e-2 * multipliers),\n          Dict(:alg => ETDRK2(krylov=true, m=20), :dts => 1e-2 * multipliers)]\nlabels = hcat(\"NorsettEuler (caching)\", \"NorsettEuler (m=5)\", \"NorsettEuler (m=20)\",\n                            \"ETDRK2 (caching)\", \"ETDRK2 (m=5)\", \"ETDRK2 (m=20)\")\n@time wp2 = WorkPrecisionSet(prob,abstols,reltols,setups;\n                            print_names=true, names=labels,\n                            numruns=5,\n                            save_everystep=false, appxsol=test_sol, maxiters=Int(1e5));\n\nplot(wp2, label=labels, markershape=:auto, title=\"ExpRK methods, low order\")"
      ],
      "metadata": {},
      "execution_count": null
    },
    {
      "cell_type": "markdown",
      "source": [
        "## Between family comparisons"
      ],
      "metadata": {}
    },
    {
      "outputs": [],
      "cell_type": "code",
      "source": [
        "abstols = 0.1 .^ (5:8) # all fixed dt methods so these don't matter much\nreltols = 0.1 .^ (1:4)\nmultipliers = 0.5 .^ (0:3)\nsetups = [Dict(:alg => CNAB2(), :dts => 5e-3 * multipliers),\n          Dict(:alg => CNAB2(linsolve=LinSolveGMRES()), :dts => 5e-3 * multipliers),\n          Dict(:alg => ETDRK2(krylov=true, m=5), :dts => 1e-2 * multipliers)]\nlabels = [\"CNAB2 (dense linsolve)\" \"CNAB2 (Krylov linsolve)\" \"ETDRK2 (m=5)\"]\n@time wp3 = WorkPrecisionSet(prob,abstols,reltols,setups;\n                            print_names=true, names=labels,\n                            numruns=5, error_estimate=:l2,\n                            save_everystep=false, appxsol=test_sol, maxiters=Int(1e5));\n\nplot(wp3, label=labels, markershape=:auto, title=\"Between family, low orders\")"
      ],
      "metadata": {},
      "execution_count": null
    },
    {
      "cell_type": "markdown",
      "source": [
        "## Low tolerances\n## In-family comparisons\n\n1.IMEX methods (dense/band linear solver)"
      ],
      "metadata": {}
    },
    {
      "outputs": [],
      "cell_type": "code",
      "source": [
        "abstols = 0.1 .^ (7:13)\nreltols = 0.1 .^ (4:10)\nsetups = [Dict(:alg => KenCarp3()),\n          Dict(:alg => KenCarp4()),\n          Dict(:alg => KenCarp5()),\n          Dict(:alg => ARKODE(Sundials.Implicit(), order=3, linear_solver=:Band, jac_upper=1, jac_lower=1)),\n          Dict(:alg => ARKODE(Sundials.Implicit(), order=4, linear_solver=:Band, jac_upper=1, jac_lower=1)),\n          Dict(:alg => ARKODE(Sundials.Implicit(), order=5, linear_solver=:Band, jac_upper=1, jac_lower=1))]\nlabels = hcat(\"KenCarp3\", \"KenCarp4\", \"KenCarp5\",\n              \"ARKODE3\", \"ARKODE4\", \"ARKODE5\")\n@time wp4 = WorkPrecisionSet(prob,abstols,reltols,setups;\n                            print_names=true, names=labels,\n                            numruns=5, error_estimate=:l2,\n                            save_everystep=false, appxsol=test_sol, maxiters=Int(1e5));\n\nplot(wp4, label=labels, markershape=:auto, title=\"IMEX methods, dense/band linsolve, medium order\")"
      ],
      "metadata": {},
      "execution_count": null
    },
    {
      "cell_type": "markdown",
      "source": [
        "1.IMEX methods (krylov linear solver)"
      ],
      "metadata": {}
    },
    {
      "outputs": [],
      "cell_type": "code",
      "source": [
        "abstols = 0.1 .^ (7:13)\nreltols = 0.1 .^ (4:10)\nsetups = [Dict(:alg => KenCarp3(linsolve=LinSolveGMRES())),\n          Dict(:alg => KenCarp4(linsolve=LinSolveGMRES())),\n          Dict(:alg => KenCarp5(linsolve=LinSolveGMRES())),\n          Dict(:alg => ARKODE(Sundials.Implicit(), order=3, linear_solver=:GMRES)),\n          Dict(:alg => ARKODE(Sundials.Implicit(), order=4, linear_solver=:GMRES)),\n          Dict(:alg => ARKODE(Sundials.Implicit(), order=5, linear_solver=:GMRES))]\nlabels = [\"KenCarp3\" \"KenCarp4\" \"KenCarp5\" \"ARKODE3\" \"ARKODE4\" \"ARKODE5\"]\n@time wp4 = WorkPrecisionSet(prob,abstols,reltols,setups;\n                            print_names=true, names=labels,\n                            numruns=5, error_estimate=:l2,\n                            save_everystep=false, appxsol=test_sol, maxiters=Int(1e5));\n\nplot(wp4, label=labels, markershape=:auto, title=\"IMEX methods, Krylov linsolve, medium order\")"
      ],
      "metadata": {},
      "execution_count": null
    },
    {
      "cell_type": "markdown",
      "source": [
        "2.ExpRK methods"
      ],
      "metadata": {}
    },
    {
      "outputs": [],
      "cell_type": "code",
      "source": [
        "abstols = 0.1 .^ (7:11) # all fixed dt methods so these don't matter much\nreltols = 0.1 .^ (4:8)\nmultipliers = 0.5 .^ (0:4)\nsetups = [Dict(:alg => ETDRK3(), :dts => 1e-2 * multipliers),\n          Dict(:alg => ETDRK3(krylov=true, m=5), :dts => 1e-2 * multipliers),\n          Dict(:alg => ETDRK4(), :dts => 1e-2 * multipliers),\n          Dict(:alg => ETDRK4(krylov=true, m=5), :dts => 1e-2 * multipliers),\n          Dict(:alg => HochOst4(), :dts => 1e-2 * multipliers),\n          Dict(:alg => HochOst4(krylov=true, m=5), :dts => 1e-2 * multipliers)]\nlabels = hcat(\"ETDRK3 (caching)\", \"ETDRK3 (m=5)\", \"ETDRK4 (caching)\",\n              \"ETDRK4 (m=5)\", \"HochOst4 (caching)\", \"HochOst4 (m=5)\")\n@time wp5 = WorkPrecisionSet(prob,abstols,reltols,setups;\n                            print_names=true, names=labels,\n                            numruns=5, error_estimate=:l2,\n                            save_everystep=false, appxsol=test_sol, maxiters=Int(1e5));\n\nplot(wp5, label=labels, markershape=:auto, title=\"ExpRK methods, medium order\")"
      ],
      "metadata": {},
      "execution_count": null
    },
    {
      "cell_type": "markdown",
      "source": [
        "## Between family comparisons"
      ],
      "metadata": {}
    },
    {
      "outputs": [],
      "cell_type": "code",
      "source": [
        "abstols = 0.1 .^ (7:11)\nreltols = 0.1 .^ (4:8)\nmultipliers = 0.5 .^ (0:4)\nsetups = [Dict(:alg => KenCarp5()),\n          Dict(:alg => ARKODE(Sundials.Implicit(), order=5, linear_solver=:Dense)),\n          Dict(:alg => KenCarp5(linsolve=LinSolveGMRES())),\n          Dict(:alg => ARKODE(Sundials.Implicit(), order=5, linear_solver=:GMRES)),\n          Dict(:alg => ETDRK3(krylov=true, m=5), :dts => 1e-2 * multipliers),\n          Dict(:alg => ETDRK4(krylov=true, m=5), :dts => 1e-2 * multipliers)]\nlabels = hcat(\"KenCarp5 (dense linsolve)\", \"ARKODE (dense linsolve)\", \"KenCarp5 (Krylov linsolve)\",\n              \"ARKODE (Krylov linsolve)\", \"ETDRK3 (m=5)\", \"ETDRK4 (m=5)\")\n@time wp6 = WorkPrecisionSet(prob,abstols,reltols,setups;\n                            print_names=true, names=labels,\n                            numruns=5, error_estimate=:l2,\n                            save_everystep=false, appxsol=test_sol, maxiters=Int(1e5));\n\nplot(wp6, label=labels, markershape=:auto, title=\"Between family, medium order\")"
      ],
      "metadata": {},
      "execution_count": null
    },
    {
      "outputs": [],
      "cell_type": "code",
      "source": [
        "using DiffEqBenchmarks\nDiffEqBenchmarks.bench_footer(WEAVE_ARGS[:folder],WEAVE_ARGS[:file])"
      ],
      "metadata": {},
      "execution_count": null
    }
  ],
  "nbformat_minor": 2,
  "metadata": {
    "language_info": {
      "file_extension": ".jl",
      "mimetype": "application/julia",
      "name": "julia",
      "version": "1.2.0"
    },
    "kernelspec": {
      "name": "julia-1.2",
      "display_name": "Julia 1.2.0",
      "language": "julia"
    }
  },
  "nbformat": 4
}
