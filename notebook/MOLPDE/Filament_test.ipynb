{
  "cells": [
    {
      "cell_type": "markdown",
      "source": [
        "# Filament Work-Precision Diagrams\n### dextorious, Chris Rackauckas\n\n# Filament Benchmark\n\nIn this notebook we will benchmark a real-world biological model from a paper entitled [Magnetic dipole with a flexible tail as a self-propelling microdevice](https://doi.org/10.1103/PhysRevE.85.041502). This is a system of PDEs representing a Kirchhoff model of an elastic rod, where the equations of motion are given by the Rouse approximation with free boundary conditions.\n\n## Model Implementation\n\nFirst we will show the full model implementation. It is not necessary to understand the full model specification in order to understand the benchmark results, but it's all contained here for completeness. The model is highly optimized, with all internal vectors pre-cached, loops unrolled for efficiency (along with `@simd` annotations), a pre-defined Jacobian, matrix multiplications are all in-place, etc. Thus this model is a good stand-in for other optimized PDE solving cases.\n\nThe model is thus defined as follows:"
      ],
      "metadata": {}
    },
    {
      "outputs": [],
      "cell_type": "code",
      "source": [
        "using OrdinaryDiffEq, ODEInterfaceDiffEq, Sundials, DiffEqDevTools, LSODA\nusing LinearAlgebra\nusing Plots\ngr()"
      ],
      "metadata": {},
      "execution_count": null
    },
    {
      "outputs": [],
      "cell_type": "code",
      "source": [
        "const T = Float64\nabstract type AbstractFilamentCache end\nabstract type AbstractMagneticForce end\nabstract type AbstractInextensibilityCache end\nabstract type AbstractSolver end\nabstract type AbstractSolverCache end"
      ],
      "metadata": {},
      "execution_count": null
    },
    {
      "outputs": [],
      "cell_type": "code",
      "source": [
        "struct FerromagneticContinuous <: AbstractMagneticForce\n    ω :: T\n    F :: Vector{T}\nend\n\nmutable struct FilamentCache{\n        MagneticForce        <: AbstractMagneticForce,\n        InextensibilityCache <: AbstractInextensibilityCache,\n        SolverCache          <: AbstractSolverCache\n            } <: AbstractFilamentCache\n    N  :: Int\n    μ  :: T\n    Cm :: T\n    x  :: SubArray{T,1,Vector{T},Tuple{StepRange{Int,Int}},true}\n    y  :: SubArray{T,1,Vector{T},Tuple{StepRange{Int,Int}},true}\n    z  :: SubArray{T,1,Vector{T},Tuple{StepRange{Int,Int}},true}\n    A  :: Matrix{T}\n    P  :: InextensibilityCache\n    F  :: MagneticForce\n    Sc :: SolverCache\nend"
      ],
      "metadata": {},
      "execution_count": null
    },
    {
      "outputs": [],
      "cell_type": "code",
      "source": [
        "struct NoHydroProjectionCache <: AbstractInextensibilityCache\n    J         :: Matrix{T}\n    P         :: Matrix{T}\n    J_JT      :: Matrix{T}\n    J_JT_LDLT :: LinearAlgebra.LDLt{T, SymTridiagonal{T}}\n    P0        :: Matrix{T}\n\n    NoHydroProjectionCache(N::Int) = new(\n        zeros(N, 3*(N+1)),          # J\n        zeros(3*(N+1), 3*(N+1)),    # P\n        zeros(N,N),                 # J_JT\n        LinearAlgebra.LDLt{T,SymTridiagonal{T}}(SymTridiagonal(zeros(N), zeros(N-1))),\n        zeros(N, 3*(N+1))\n    )\nend"
      ],
      "metadata": {},
      "execution_count": null
    },
    {
      "outputs": [],
      "cell_type": "code",
      "source": [
        "struct DiffEqSolverCache <: AbstractSolverCache\n    S1 :: Vector{T}\n    S2 :: Vector{T}\n\n    DiffEqSolverCache(N::Integer) = new(zeros(T,3*(N+1)), zeros(T,3*(N+1)))\nend"
      ],
      "metadata": {},
      "execution_count": null
    },
    {
      "outputs": [],
      "cell_type": "code",
      "source": [
        "function FilamentCache(N=20; Cm=32, ω=200, Solver=SolverDiffEq)\n    InextensibilityCache = NoHydroProjectionCache\n    SolverCache = DiffEqSolverCache\n    tmp = zeros(3*(N+1))\n    FilamentCache{FerromagneticContinuous, InextensibilityCache, SolverCache}(\n        N, N+1, Cm, view(tmp,1:3:3*(N+1)), view(tmp,2:3:3*(N+1)), view(tmp,3:3:3*(N+1)),\n        zeros(3*(N+1), 3*(N+1)), # A\n        InextensibilityCache(N), # P\n        FerromagneticContinuous(ω, zeros(3*(N+1))),\n        SolverCache(N)\n    )\nend"
      ],
      "metadata": {},
      "execution_count": null
    },
    {
      "outputs": [],
      "cell_type": "code",
      "source": [
        "function stiffness_matrix!(f::AbstractFilamentCache)\n    N, μ, A = f.N, f.μ, f.A\n    @inbounds for j in axes(A, 2), i in axes(A, 1)\n      A[i, j] = j == i ? 1 : 0\n    end\n    @inbounds for i in 1 : 3\n        A[i,i] =    1\n        A[i,3+i] = -2\n        A[i,6+i] =  1\n\n        A[3+i,i]   = -2\n        A[3+i,3+i] =  5\n        A[3+i,6+i] = -4\n        A[3+i,9+i] =  1\n\n        A[3*(N-1)+i,3*(N-3)+i] =  1\n        A[3*(N-1)+i,3*(N-2)+i] = -4\n        A[3*(N-1)+i,3*(N-1)+i] =  5\n        A[3*(N-1)+i,3*N+i]     = -2\n\n        A[3*N+i,3*(N-2)+i]     =  1\n        A[3*N+i,3*(N-1)+i]     = -2\n        A[3*N+i,3*N+i]         =  1\n\n        for j in 2 : N-2\n            A[3*j+i,3*j+i]     =  6\n            A[3*j+i,3*(j-1)+i] = -4\n            A[3*j+i,3*(j+1)+i] = -4\n            A[3*j+i,3*(j-2)+i] =  1\n            A[3*j+i,3*(j+2)+i] =  1\n        end\n    end\n    rmul!(A, -μ^4)\n    nothing\nend"
      ],
      "metadata": {},
      "execution_count": null
    },
    {
      "outputs": [],
      "cell_type": "code",
      "source": [
        "function update_separate_coordinates!(f::AbstractFilamentCache, r)\n    N, x, y, z = f.N, f.x, f.y, f.z\n    @inbounds for i in 1 : length(x)\n        x[i] = r[3*i-2]\n        y[i] = r[3*i-1]\n        z[i] = r[3*i]\n    end\n    nothing\nend\n\nfunction update_united_coordinates!(f::AbstractFilamentCache, r)\n    N, x, y, z = f.N, f.x, f.y, f.z\n    @inbounds for i in 1 : length(x)\n        r[3*i-2] = x[i]\n        r[3*i-1] = y[i]\n        r[3*i]   = z[i]\n    end\n    nothing\nend\n\nfunction update_united_coordinates(f::AbstractFilamentCache)\n    r = zeros(T, 3*length(f.x))\n    update_united_coordinates!(f, r)\n    r\nend"
      ],
      "metadata": {},
      "execution_count": null
    },
    {
      "outputs": [],
      "cell_type": "code",
      "source": [
        "function initialize!(initial_conf_type::Symbol, f::AbstractFilamentCache)\n    N, x, y, z = f.N, f.x, f.y, f.z\n    if initial_conf_type == :StraightX\n        x .= range(0, stop=1, length=N+1)\n        y .= 0\n        z .= 0\n    else\n        error(\"Unknown initial configuration requested.\")\n    end\n    update_united_coordinates(f)\nend"
      ],
      "metadata": {},
      "execution_count": null
    },
    {
      "outputs": [],
      "cell_type": "code",
      "source": [
        "function magnetic_force!(::FerromagneticContinuous, f::AbstractFilamentCache, t)\n    # TODO: generalize this for different magnetic fields as well\n    N, μ, Cm, ω, F = f.N, f.μ, f.Cm, f.F.ω, f.F.F\n    F[1]         = -μ * Cm * cos(ω*t)\n    F[2]         = -μ * Cm * sin(ω*t)\n    F[3*(N+1)-2] =  μ * Cm * cos(ω*t)\n    F[3*(N+1)-1] =  μ * Cm * sin(ω*t)\n    nothing\nend"
      ],
      "metadata": {},
      "execution_count": null
    },
    {
      "outputs": [],
      "cell_type": "code",
      "source": [
        "struct SolverDiffEq <: AbstractSolver end\n\nfunction (f::FilamentCache)(dr, r, p, t)\n    @views f.x, f.y, f.z = r[1:3:end], r[2:3:end], r[3:3:end]\n    jacobian!(f)\n    projection!(f)\n    magnetic_force!(f.F, f, t)\n    A, P, F, S1, S2 = f.A, f.P.P, f.F.F, f.Sc.S1, f.Sc.S2\n\n    # implement dr = P * (A*r + F) in an optimized way to avoid temporaries\n    mul!(S1, A, r)\n    S1 .+= F\n    mul!(S2, P, S1)\n    copyto!(dr, S2)\n    return dr\nend"
      ],
      "metadata": {},
      "execution_count": null
    },
    {
      "outputs": [],
      "cell_type": "code",
      "source": [
        "function jacobian!(f::FilamentCache)\n    N, x, y, z, J = f.N, f.x, f.y, f.z, f.P.J\n    @inbounds for i in 1 : N\n        J[i, 3*i-2]     = -2 * (x[i+1]-x[i])\n        J[i, 3*i-1]     = -2 * (y[i+1]-y[i])\n        J[i, 3*i]       = -2 * (z[i+1]-z[i])\n        J[i, 3*(i+1)-2] =  2 * (x[i+1]-x[i])\n        J[i, 3*(i+1)-1] =  2 * (y[i+1]-y[i])\n        J[i, 3*(i+1)]   =  2 * (z[i+1]-z[i])\n    end\n    nothing\nend"
      ],
      "metadata": {},
      "execution_count": null
    },
    {
      "outputs": [],
      "cell_type": "code",
      "source": [
        "function projection!(f::FilamentCache)\n    # implement P[:] = I - J'/(J*J')*J in an optimized way to avoid temporaries\n    J, P, J_JT, J_JT_LDLT, P0 = f.P.J, f.P.P, f.P.J_JT, f.P.J_JT_LDLT, f.P.P0\n    mul!(J_JT, J, J')\n    LDLt_inplace!(J_JT_LDLT, J_JT)\n    ldiv!(P0, J_JT_LDLT, J)\n    mul!(P, P0', J)\n    subtract_from_identity!(P)\n    nothing\nend"
      ],
      "metadata": {},
      "execution_count": null
    },
    {
      "outputs": [],
      "cell_type": "code",
      "source": [
        "function subtract_from_identity!(A)\n    lmul!(-1, A)\n    @inbounds for i in 1 : size(A,1)\n        A[i,i] += 1\n    end\n    nothing\nend"
      ],
      "metadata": {},
      "execution_count": null
    },
    {
      "outputs": [],
      "cell_type": "code",
      "source": [
        "function LDLt_inplace!(L::LinearAlgebra.LDLt{T,SymTridiagonal{T}}, A::Matrix{T}) where {T<:Real}\n    n = size(A,1)\n    dv, ev = L.data.dv, L.data.ev\n    @inbounds for (i,d) in enumerate(diagind(A))\n        dv[i] = A[d]\n    end\n    @inbounds for (i,d) in enumerate(diagind(A,-1))\n        ev[i] = A[d]\n    end\n    @inbounds @simd for i in 1 : n-1\n        ev[i]   /= dv[i]\n        dv[i+1] -= abs2(ev[i]) * dv[i]\n    end\n    L\nend"
      ],
      "metadata": {},
      "execution_count": null
    },
    {
      "cell_type": "markdown",
      "source": [
        "# Investigating the model\n\nLet's take a look at what results of the model look like:"
      ],
      "metadata": {}
    },
    {
      "outputs": [],
      "cell_type": "code",
      "source": [
        "function run(::SolverDiffEq; N=20, Cm=32, ω=200, time_end=1., solver=TRBDF2(autodiff=false), reltol=1e-6, abstol=1e-6)\n    f = FilamentCache(N, Solver=SolverDiffEq, Cm=Cm, ω=ω)\n    r0 = initialize!(:StraightX, f)\n    stiffness_matrix!(f)\n    prob = ODEProblem(ODEFunction(f, jac=(J, u, p, t)->(mul!(J, f.P.P, f.A); nothing)), r0, (0., time_end))\n    sol = solve(prob, solver, dense=false, reltol=reltol, abstol=abstol)\nend"
      ],
      "metadata": {},
      "execution_count": null
    },
    {
      "cell_type": "markdown",
      "source": [
        "This method runs the model with the `TRBDF2` method and the default parameters."
      ],
      "metadata": {}
    },
    {
      "outputs": [],
      "cell_type": "code",
      "source": [
        "sol = run(SolverDiffEq())\nplot(sol,vars = (0,25))"
      ],
      "metadata": {},
      "execution_count": null
    },
    {
      "cell_type": "markdown",
      "source": [
        "The model quickly falls into a highly oscillatory mode which then dominates throughout the rest of the solution.\n\n# Work-Precision Diagrams\n\nNow let's build the problem and solve it once at high accuracy to get a reference solution:"
      ],
      "metadata": {}
    },
    {
      "outputs": [],
      "cell_type": "code",
      "source": [
        "N=20\nf = FilamentCache(N, Solver=SolverDiffEq)\nr0 = initialize!(:StraightX, f)\nstiffness_matrix!(f)\nprob = ODEProblem(f, r0, (0., 0.01))\n\nsol = solve(prob, Vern9(), reltol=1e-14, abstol=1e-14)\ntest_sol = TestSolution(sol);"
      ],
      "metadata": {},
      "execution_count": null
    },
    {
      "cell_type": "markdown",
      "source": [
        "## High Tolerance (Low Accuracy)\n\n### Endpoint Error"
      ],
      "metadata": {}
    },
    {
      "outputs": [],
      "cell_type": "code",
      "source": [
        "abstols=1 ./10 .^(3:8)\nreltols=1 ./10 .^(3:8)\nsetups = [\n    Dict(:alg => CVODE_BDF()),\n    Dict(:alg => ABDF2(autodiff=false)),\n    Dict(:alg => QNDF(autodiff=false)),\n    Dict(:alg => RadauIIA5(autodiff=false)),\n    ];\n\nwp = WorkPrecisionSet(prob, abstols, reltols, setups; appxsol=test_sol,\n                      maxiters=Int(1e6), verbose = false)\nplot(wp)"
      ],
      "metadata": {},
      "execution_count": null
    }
  ],
  "nbformat_minor": 2,
  "metadata": {
    "language_info": {
      "file_extension": ".jl",
      "mimetype": "application/julia",
      "name": "julia",
      "version": "1.2.0"
    },
    "kernelspec": {
      "name": "julia-1.2",
      "display_name": "Julia 1.2.0",
      "language": "julia"
    }
  },
  "nbformat": 4
}
