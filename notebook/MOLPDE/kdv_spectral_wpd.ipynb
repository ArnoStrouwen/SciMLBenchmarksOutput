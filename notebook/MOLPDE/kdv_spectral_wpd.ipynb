{
  "cells": [
    {
      "cell_type": "markdown",
      "source": [
        "# KdV Pseudospectral Methods Work-Precision Diagrams\n### HAO HAO"
      ],
      "metadata": {}
    },
    {
      "outputs": [],
      "cell_type": "code",
      "source": [
        "using ApproxFun, OrdinaryDiffEq, Sundials, BenchmarkTools, DiffEqOperators\nusing DiffEqDevTools\nusing LinearAlgebra\nusing Plots; gr()"
      ],
      "metadata": {},
      "execution_count": null
    },
    {
      "cell_type": "markdown",
      "source": [
        "Here is the Burgers equation using Fourier spectral methods."
      ],
      "metadata": {}
    },
    {
      "outputs": [],
      "cell_type": "code",
      "source": [
        "S = Fourier()\nn = 512\nx = points(S, n)\nD2 = Derivative(S,2)[1:n,1:n]\nD  = (Derivative(S) → S)[1:n,1:n]\nT = ApproxFun.plan_transform(S, n)\nTi = ApproxFun.plan_itransform(S, n)\n\nD3  = (Derivative(S,3) → S)[1:n,1:n]\nû₀ = T*cos.(x)\nδ=0.022\ntmp = similar(û₀)\np = (D,T,Ti,similar(tmp),tmp)\nfunction kdv(dû,û,p,t)\n    D,T,Ti,u,tmp = p\n    mul!(u,D,û)\n    mul!(tmp,Ti,u)\n    mul!(u,Ti,û)\n    @. tmp=u*tmp\n    mul!(u,T,tmp)\n    @.dû = 6*u\nend"
      ],
      "metadata": {},
      "execution_count": null
    },
    {
      "cell_type": "markdown",
      "source": [
        "Reference solution using RadauIIA5 is below:"
      ],
      "metadata": {}
    },
    {
      "outputs": [],
      "cell_type": "code",
      "source": [
        "prob = SplitODEProblem(DiffEqArrayOperator(-D3), kdv, û₀, (0.0,5.0), p)\nsol  = solve(prob, RadauIIA5(autodiff=false); reltol=1e-14,abstol=1e-14)\ntest_sol = TestSolution(sol)\n\ntslices=[0.0 1.0 2.0 3.0 5.0]\nys=hcat((Ti*sol(t) for t in tslices)...)\nlabels=[\"t=$t\" for t in tslices]\nplot(x,ys,label=labels)"
      ],
      "metadata": {},
      "execution_count": null
    },
    {
      "cell_type": "markdown",
      "source": [
        "## High tolerances\n\n## In-family comparisons\n\n1.IMEX methods (diagonal linear solver)"
      ],
      "metadata": {}
    },
    {
      "outputs": [],
      "cell_type": "code",
      "source": [
        "abstols = 0.1 .^ (5:8)\nreltols = 0.1 .^ (1:4)\nmultipliers =  0.5 .^ (0:3)\nsetups = [Dict(:alg => IMEXEuler(linsolve=diag_linsolve), :dts => 1e-5 * multipliers),\n          Dict(:alg => CNAB2(linsolve=diag_linsolve), :dts => 5e-7 * multipliers),\n          Dict(:alg => CNLF2(linsolve=diag_linsolve), :dts => 5e-7 * multipliers),\n          Dict(:alg => SBDF2(linsolve=diag_linsolve), :dts => 1e-5 * multipliers)]\nlabels = [\"IMEXEuler\" \"CNAB2\" \"CNLF2\" \"SBDF2\"]\n@time wp1 = WorkPrecisionSet(prob,abstols,reltols,setups;\n                            print_names=true,names=labels,\n                            numruns=5,seconds=5,\n                            save_everystop=false,appxsol=test_sol,maxiters=Int(1e5));\n\nplot(wp1,label=labels,markershape=:auto,title=\"IMEX methods, diagonal linsolve, low order\")"
      ],
      "metadata": {},
      "execution_count": null
    },
    {
      "cell_type": "markdown",
      "source": [
        "2. ExpRK methods"
      ],
      "metadata": {}
    },
    {
      "outputs": [],
      "cell_type": "code",
      "source": [
        "abstols = 0.1 .^ (5:8) # all fixed dt methods so these don't matter much\nreltols = 0.1 .^ (1:4)\nmultipliers = 0.5 .^ (0:3)\nsetups = [Dict(:alg => NorsettEuler(), :dts => 1e-3 * multipliers),\n          Dict(:alg => ETDRK2(), :dts => 1e-2 * multipliers)]\nlabels = hcat(\"NorsettEuler\",\n              \"ETDRK2 (caching)\")\n@time wp2 = WorkPrecisionSet(prob,abstols,reltols,setups;\n                            print_names=true, names=labels,\n                            numruns=5,\n                            save_everystep=false, appxsol=test_sol, maxiters=Int(1e5));\n\nplot(wp2, label=labels, markershape=:auto, title=\"ExpRK methods, low order\")"
      ],
      "metadata": {},
      "execution_count": null
    },
    {
      "cell_type": "markdown",
      "source": [
        "## Between family comparisons"
      ],
      "metadata": {}
    },
    {
      "outputs": [],
      "cell_type": "code",
      "source": [
        "abstols = 0.1 .^ (5:8) # all fixed dt methods so these don't matter much\nreltols = 0.1 .^ (1:4)\nmultipliers = 0.5 .^ (0:3)\nsetups = [Dict(:alg => CNAB2(linsolve=diag_linsolve), :dts => 5e-5 * multipliers),\n          Dict(:alg => ETDRK2(), :dts => 1e-2 * multipliers)]\nlabels = [\"CNAB2 (diagonal linsolve)\" \"ETDRK2\"]\n@time wp3 = WorkPrecisionSet(prob,abstols,reltols,setups;\n                            print_names=true, names=labels,\n                            numruns=5, error_estimate=:l2,\n                            save_everystep=false, appxsol=test_sol, maxiters=Int(1e5));\n\nplot(wp3, label=labels, markershape=:auto, title=\"Between family, low orders\")"
      ],
      "metadata": {},
      "execution_count": null
    },
    {
      "cell_type": "markdown",
      "source": [
        "## Low tolerances\n\n## In-family comparisons\n\n1.IMEX methods (band linear solver)"
      ],
      "metadata": {}
    },
    {
      "outputs": [],
      "cell_type": "code",
      "source": [
        "abstols = 0.1 .^ (7:13)\nreltols = 0.1 .^ (4:10)\nsetups = [Dict(:alg => ARKODE(Sundials.Implicit(), order=3, linear_solver=:Band, jac_upper=1, jac_lower=1)),\n          Dict(:alg => ARKODE(Sundials.Implicit(), order=4, linear_solver=:Band, jac_upper=1, jac_lower=1)),\n          Dict(:alg => ARKODE(Sundials.Implicit(), order=5, linear_solver=:Band, jac_upper=1, jac_lower=1))]\nlabels = hcat(\"ARKODE3\", \"ARKODE4\", \"ARKODE5\")\n@time wp4 = WorkPrecisionSet(prob,abstols,reltols,setups;\n                            print_names=true, names=labels,\n                            numruns=5, error_estimate=:l2,\n                            save_everystep=false, appxsol=test_sol, maxiters=Int(1e5));\n\nplot(wp4, label=labels, markershape=:auto, title=\"IMEX methods, band linsolve, medium order\")"
      ],
      "metadata": {},
      "execution_count": null
    },
    {
      "cell_type": "markdown",
      "source": [
        "2.ExpRK methods"
      ],
      "metadata": {}
    },
    {
      "outputs": [],
      "cell_type": "code",
      "source": [
        "abstols = 0.1 .^ (7:11) # all fixed dt methods so these don't matter much\nreltols = 0.1 .^ (4:8)\nmultipliers = 0.5 .^ (0:4)\nsetups = [Dict(:alg => ETDRK3(), :dts => 1e-2 * multipliers),\n          Dict(:alg => ETDRK4(), :dts => 1e-2 * multipliers),\n          Dict(:alg => HochOst4(), :dts => 1e-2 * multipliers)]\nlabels = hcat(\"ETDRK3 (caching)\", \"ETDRK4 (caching)\",\n              \"HochOst4 (caching)\")#,\"ETDRK4 (m=5)\" \"ETDRK3 (m=5)\" \"HochOst4 (m=5)\")\n@time wp5 = WorkPrecisionSet(prob,abstols,reltols,setups;\n                            print_names=true, names=labels,\n                            numruns=5, error_estimate=:l2,\n                            save_everystep=false, appxsol=test_sol, maxiters=Int(1e5));\n\nplot(wp5, label=labels, markershape=:auto, title=\"ExpRK methods, medium order\")"
      ],
      "metadata": {},
      "execution_count": null
    },
    {
      "cell_type": "markdown",
      "source": [
        "## Between family comparisons"
      ],
      "metadata": {}
    },
    {
      "outputs": [],
      "cell_type": "code",
      "source": [
        "abstols = 0.1 .^ (7:11)\nreltols = 0.1 .^ (4:8)\nmultipliers = 0.5 .^ (0:4)\nsetups = [Dict(:alg => ARKODE(Sundials.Implicit(), order=5, linear_solver=:Band, jac_upper=1, jac_lower=1)),\n          Dict(:alg => ETDRK3(), :dts => 1e-2 * multipliers),\n          Dict(:alg => ETDRK4(), :dts => 1e-2 * multipliers)]\nlabels = hcat(\"ARKODE (nondiagonal linsolve)\", \"ETDRK3 ()\", \"ETDRK4 ()\")\n@time wp6 = WorkPrecisionSet(prob,abstols,reltols,setups;\n                            print_names=true, names=labels,\n                            numruns=5, error_estimate=:l2,\n                            save_everystep=false, appxsol=test_sol, maxiters=Int(1e5));\n\nplot(wp6, label=labels, markershape=:auto, title=\"Between family, medium order\")"
      ],
      "metadata": {},
      "execution_count": null
    },
    {
      "outputs": [],
      "cell_type": "code",
      "source": [
        "using DiffEqBenchmarks\nDiffEqBenchmarks.bench_footer(WEAVE_ARGS[:folder],WEAVE_ARGS[:file])"
      ],
      "metadata": {},
      "execution_count": null
    }
  ],
  "nbformat_minor": 2,
  "metadata": {
    "language_info": {
      "file_extension": ".jl",
      "mimetype": "application/julia",
      "name": "julia",
      "version": "1.2.0"
    },
    "kernelspec": {
      "name": "julia-1.2",
      "display_name": "Julia 1.2.0",
      "language": "julia"
    }
  },
  "nbformat": 4
}
