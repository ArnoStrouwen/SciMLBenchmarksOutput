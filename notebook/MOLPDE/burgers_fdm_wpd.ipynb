{
  "cells": [
    {
      "cell_type": "markdown",
      "source": [
        "# Burgers FDM Work-Precision Diagrams\n### HAO HAO"
      ],
      "metadata": {}
    },
    {
      "outputs": [],
      "cell_type": "code",
      "source": [
        "using ApproxFun, OrdinaryDiffEq, Sundials\nusing DiffEqDevTools\nusing LinearAlgebra\nusing Plots; gr()"
      ],
      "metadata": {},
      "execution_count": null
    },
    {
      "cell_type": "markdown",
      "source": [
        "Here is the Burgers equation using FDM."
      ],
      "metadata": {}
    },
    {
      "outputs": [],
      "cell_type": "code",
      "source": [
        "function lin_term(N, ϵ)\n    dx = 1/(N + 1)\n    d = -2 * ones(N) # main diagonal\n    du = ones(N - 1) # off diagonal\n    DiffEqArrayOperator((ϵ/dx^2) * diagm(-1 => du, 0 => d, 1 => du))\nend\n\nfunction nl_term(N)\n    dx = 1/(N + 1)\n    du = ones(N - 1) # super diagonal\n    dl = -ones(N - 1) # lower diagonal\n    D = (-1/(4*dx)) * diagm(-1 => dl, 1 => du)\n\n    tmp = zeros(N)\n    function (du,u,p,t)\n        @. tmp = u^2\n        mul!(du, D, tmp)\n    end\nend\n\n# Construct the problem\nfunction burgers(N, ϵ)\n    f1 = lin_term(N, ϵ)\n    f2 = nl_term(N)\n    dx = 1 / (N + 1)\n    xs = (1:N) * dx\n\n    μ0 = 0.3; σ0 = 0.05\n    f0 = x -> exp(-(x - μ0)^2 / (2 * σ0^2))\n    u0 = f0.(xs)\n    prob = SplitODEProblem(f1, f2, u0, (0.0, 1.0))\n    xs, prob\nend;"
      ],
      "metadata": {},
      "execution_count": null
    },
    {
      "cell_type": "markdown",
      "source": [
        "Reference solution using Vern9 is below:"
      ],
      "metadata": {}
    },
    {
      "outputs": [],
      "cell_type": "code",
      "source": [
        "xs, prob = burgers(512, 1e-3)\nsol = solve(prob, Vern9(); abstol=1e-14, reltol=1e-14)\ntest_sol = TestSolution(sol);\n\ntslices = [0.0 0.25 0.50 0.75 1.00]\nys = hcat((sol(t) for t in tslices)...)\nlabels = [\"t = $t\" for t in tslices]\nplot(xs, ys, label=labels)"
      ],
      "metadata": {},
      "execution_count": null
    },
    {
      "cell_type": "markdown",
      "source": [
        "## High tolerances\n\n## In-family comparisons\n\n1.IMEX methods (dense linear solver)"
      ],
      "metadata": {}
    },
    {
      "outputs": [],
      "cell_type": "code",
      "source": [
        "abstols = 0.1 .^ (5:8) # all fixed dt methods so these don't matter much\nreltols = 0.1 .^ (1:4)\nmultipliers = 0.5 .^ (0:3)\nsetups = [Dict(:alg => IMEXEuler(), :dts => 1e-3 * multipliers),\n          Dict(:alg => CNAB2(), :dts => 1e-4 * multipliers),\n          Dict(:alg => CNLF2(), :dts => 1e-4 * multipliers),\n          Dict(:alg => SBDF2(), :dts => 1e-3 * multipliers)]\nlabels = [\"IMEXEuler\" \"CNAB2\" \"CNLF2\" \"SBDF2\"]\n@time wp = WorkPrecisionSet(prob,abstols,reltols,setups;\n                            print_names=true, names=labels,\n                            numruns=5, error_estimate=:l2,\n                            save_everystep=false, appxsol=test_sol, maxiters=Int(1e5));\n\nplot(wp, label=labels, markershape=:auto, title=\"IMEX methods, dense linsolve, low order\")"
      ],
      "metadata": {},
      "execution_count": null
    },
    {
      "cell_type": "markdown",
      "source": [
        "1.IMEX methods (Krylov linear solver)"
      ],
      "metadata": {}
    },
    {
      "outputs": [],
      "cell_type": "code",
      "source": [
        "abstols = 0.1 .^ (5:8) # all fixed dt methods so these don't matter much\nreltols = 0.1 .^ (1:4)\nmultipliers = 0.5 .^ (0:3)\nsetups = [Dict(:alg => IMEXEuler(linsolve=LinSolveGMRES()), :dts => 1e-3 * multipliers),\n          Dict(:alg => CNAB2(linsolve=LinSolveGMRES()), :dts => 1e-4 * multipliers),\n          Dict(:alg => CNLF2(linsolve=LinSolveGMRES()), :dts => 1e-4 * multipliers),\n          Dict(:alg => SBDF2(linsolve=LinSolveGMRES()), :dts => 1e-3 * multipliers)]\nlabels = [\"IMEXEuler\" \"CNAB2\" \"CNLF2\" \"SBDF2\"]\n@time wp = WorkPrecisionSet(prob,abstols,reltols,setups;\n                            print_names=true, names=labels,\n                            numruns=5, error_estimate=:l2,\n                            save_everystep=false, appxsol=test_sol, maxiters=Int(1e5));\n\nplot(wp, label=labels, markershape=:auto, title=\"IMEX methods, Krylov linsolve, low order\")"
      ],
      "metadata": {},
      "execution_count": null
    },
    {
      "cell_type": "markdown",
      "source": [
        "2. ExpRK methods"
      ],
      "metadata": {}
    },
    {
      "outputs": [],
      "cell_type": "code",
      "source": [
        "abstols = 0.1 .^ (5:8) # all fixed dt methods so these don't matter much\nreltols = 0.1 .^ (1:4)\nmultipliers = 0.5 .^ (0:3)\nsetups = [Dict(:alg => NorsettEuler(), :dts => 1e-3 * multipliers),\n          Dict(:alg => NorsettEuler(krylov=true, m=5), :dts => 1e-3 * multipliers),\n          Dict(:alg => NorsettEuler(krylov=true, m=20), :dts => 1e-3 * multipliers),\n          Dict(:alg => ETDRK2(), :dts => 1e-3 * multipliers)]\n          #Dict(:alg => ETDRK2(krylov=true, m=20), :dts => 1e-2 * multipliers)) matrix contains Inf or NaN\n          #Dict(:alg => ETDRK2(krylov=true, m=20), :dts => 1e-2 * multipliers) matrix contains Inf or NaN\nlabels = hcat(\"NorsettEuler (caching)\", \"NorsettEuler (m=5)\", \"NorsettEuler (m=20)\",\n              \"ETDRK2 (caching)\")#, \"ETDRK2 (m=5)\"), \"ETDRK2 (m=20)\")\n@time wp = WorkPrecisionSet(prob,abstols,reltols,setups;\n                            print_names=true, names=labels,\n                            numruns=5, error_estimate=:l2,\n                            save_everystep=false, appxsol=test_sol, maxiters=Int(1e5));\n\nplot(wp, label=labels, markershape=:auto, title=\"ExpRK methods, low order\")"
      ],
      "metadata": {},
      "execution_count": null
    },
    {
      "cell_type": "markdown",
      "source": [
        "## Between family comparisons"
      ],
      "metadata": {}
    },
    {
      "outputs": [],
      "cell_type": "code",
      "source": [
        "abstols = 0.1 .^ (5:8) # all fixed dt methods so these don't matter much\nreltols = 0.1 .^ (1:4)\nmultipliers = 0.5 .^ (0:3)\nsetups = [Dict(:alg => CNAB2(), :dts => 1e-4 * multipliers),\n          Dict(:alg => CNAB2(linsolve=LinSolveGMRES()), :dts => 1e-4 * multipliers),\n          Dict(:alg => ETDRK2(), :dts => 1e-3 * multipliers)]\nlabels = [\"CNAB2 (dense linsolve)\" \"CNAB2 (Krylov linsolve)\" \"ETDRK2 (m=5)\"]\n@time wp = WorkPrecisionSet(prob,abstols,reltols,setups;\n                            print_names=true, names=labels,\n                            numruns=5, error_estimate=:l2,\n                            save_everystep=false, appxsol=test_sol, maxiters=Int(1e5));\n\nplot(wp, label=labels, markershape=:auto, title=\"Between family, low orders\")"
      ],
      "metadata": {},
      "execution_count": null
    },
    {
      "cell_type": "markdown",
      "source": [
        "## Low tolerances\n\n## In-family comparisons\n\n1.IMEX methods (dense linear solver)"
      ],
      "metadata": {}
    },
    {
      "outputs": [],
      "cell_type": "code",
      "source": [
        "abstols = 0.1 .^ (8:13)\nreltols = 0.1 .^ (5:10)\nsetups = [Dict(:alg => KenCarp3()),\n          Dict(:alg => KenCarp4()),\n          Dict(:alg => KenCarp5()),\n          Dict(:alg => ARKODE(Sundials.Implicit(), order=3, linear_solver=:Dense)),\n          Dict(:alg => ARKODE(Sundials.Implicit(), order=4, linear_solver=:Dense)),\n          Dict(:alg => ARKODE(Sundials.Implicit(), order=5, linear_solver=:Dense))]\nlabels = hcat(\"KenCarp3\", \"KenCarp4\", \"KenCarp5\", \"ARKODE3\", \"ARKODE4\", \"ARKODE5\")\n@time wp = WorkPrecisionSet(prob,abstols,reltols,setups;\n                            print_names=true, names=labels,\n                            numruns=5, error_estimate=:l2,\n                            save_everystep=false, appxsol=test_sol, maxiters=Int(1e5));\n\nplot(wp, label=labels, markershape=:auto, title=\"IMEX methods, dense linsolve, medium order\")"
      ],
      "metadata": {},
      "execution_count": null
    },
    {
      "cell_type": "markdown",
      "source": [
        "1.IMEX methods (Krylov linear solver)"
      ],
      "metadata": {}
    },
    {
      "outputs": [],
      "cell_type": "code",
      "source": [
        "abstols = 0.1 .^ (8:13)\nreltols = 0.1 .^ (5:10)\nsetups = [Dict(:alg => KenCarp3(linsolve=LinSolveGMRES())),\n          Dict(:alg => KenCarp4(linsolve=LinSolveGMRES())),\n          Dict(:alg => KenCarp5(linsolve=LinSolveGMRES())),\n          Dict(:alg => ARKODE(Sundials.Implicit(), order=3, linear_solver=:GMRES)),\n          Dict(:alg => ARKODE(Sundials.Implicit(), order=4, linear_solver=:GMRES)),\n          Dict(:alg => ARKODE(Sundials.Implicit(), order=5, linear_solver=:GMRES))]\nlabels = [\"KenCarp3\" \"KenCarp4\" \"KenCarp5\" \"ARKODE3\" \"ARKODE4\" \"ARKODE5\"]\n@time wp = WorkPrecisionSet(prob,abstols,reltols,setups;\n                            print_names=true, names=labels,\n                            numruns=5, error_estimate=:l2,\n                            save_everystep=false, appxsol=test_sol, maxiters=Int(1e5));\n\nplot(wp, label=labels, markershape=:auto, title=\"IMEX methods, medium order\")"
      ],
      "metadata": {},
      "execution_count": null
    },
    {
      "cell_type": "markdown",
      "source": [
        "2.ExpRK methods"
      ],
      "metadata": {}
    },
    {
      "outputs": [],
      "cell_type": "code",
      "source": [
        "abstols = 0.1 .^ (7:11) # all fixed dt methods so these don't matter much\nreltols = 0.1 .^ (4:8)\nmultipliers = 0.5 .^ (0:4)\nsetups = [Dict(:alg => ETDRK3(), :dts => 1e-2 * multipliers),\n          Dict(:alg => ETDRK3(krylov=true, m=5), :dts => 1e-2 * multipliers),\n          Dict(:alg => ETDRK4(), :dts => 1e-2 * multipliers),\n          Dict(:alg => ETDRK4(krylov=true, m=5), :dts => 1e-2 * multipliers),\n          Dict(:alg => HochOst4(), :dts => 1e-2 * multipliers),\n          Dict(:alg => HochOst4(krylov=true, m=5), :dts => 1e-2 * multipliers)]\nlabels = hcat(\"ETDRK3 (caching)\", \"ETDRK3 (m=5)\", \"ETDRK4 (caching)\",\n              \"ETDRK4 (m=5)\", \"HochOst4 (caching)\", \"HochOst4 (m=5)\")\n@time wp = WorkPrecisionSet(prob,abstols,reltols,setups;\n                            print_names=true, names=labels,\n                            numruns=5, error_estimate=:l2,\n                            save_everystep=false, appxsol=test_sol, maxiters=Int(1e5));\n\nplot(wp, label=labels, markershape=:auto, title=\"ExpRK methods, medium order\")"
      ],
      "metadata": {},
      "execution_count": null
    },
    {
      "cell_type": "markdown",
      "source": [
        "## Between family comparisons"
      ],
      "metadata": {}
    },
    {
      "outputs": [],
      "cell_type": "code",
      "source": [
        "abstols = 0.1 .^ (8:13)\nreltols = 0.1 .^ (5:10)\nmultipliers = 0.5 .^ (0:5)\nsetups = [Dict(:alg => KenCarp4()),\n          Dict(:alg => ARKODE(Sundials.Implicit(), order=5, linear_solver=:Dense)),\n          Dict(:alg => KenCarp4(linsolve=LinSolveGMRES())),\n          Dict(:alg => ARKODE(Sundials.Implicit(), order=5, linear_solver=:GMRES)),\n          Dict(:alg => ETDRK3(krylov=true, m=5), :dts => 1e-2 * multipliers),\n          Dict(:alg => ETDRK4(krylov=true, m=5), :dts => 1e-2 * multipliers)]\nlabels = hcat(\"KenCarp4 (dense linsolve)\", \"ARKODE (dense linsolve)\", \"KenCarp4 (Krylov linsolve)\",\n              \"ARKODE (Krylov linsolve)\", \"ETDRK3 (m=5)\", \"ETDRK4 (m=5)\")\n@time wp = WorkPrecisionSet(prob,abstols,reltols,setups;\n                            print_names=true, names=labels,\n                            numruns=5, error_estimate=:l2,\n                            save_everystep=false, appxsol=test_sol, maxiters=Int(1e5));#162s\n\nplot(wp, label=labels, markershape=:auto, title=\"Between family, medium order\")"
      ],
      "metadata": {},
      "execution_count": null
    },
    {
      "outputs": [],
      "cell_type": "code",
      "source": [
        "using DiffEqBenchmarks\nDiffEqBenchmarks.bench_footer(WEAVE_ARGS[:folder],WEAVE_ARGS[:file])"
      ],
      "metadata": {},
      "execution_count": null
    }
  ],
  "nbformat_minor": 2,
  "metadata": {
    "language_info": {
      "file_extension": ".jl",
      "mimetype": "application/julia",
      "name": "julia",
      "version": "1.3.0"
    },
    "kernelspec": {
      "name": "julia-1.3",
      "display_name": "Julia 1.3.0",
      "language": "julia"
    }
  },
  "nbformat": 4
}
