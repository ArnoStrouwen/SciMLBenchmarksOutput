{
  "cells": [
    {
      "cell_type": "markdown",
      "source": [
        "# Single Pedulum Comparison\n### Gen Kuroki (黒木玄), Chris Rackauckas\n\n# Table of Contents\n <p><div class=\"lev1 toc-item\"><a href=\"#Solving-single-pendulums-by-DifferentialEquations.jl\" data-toc-modified-id=\"Solving-single-pendulums-by-DifferentialEquations.jl-1\"><span class=\"toc-item-num\">1&nbsp;&nbsp;</span>Solving single pendulums by DifferentialEquations.jl</a></div><div class=\"lev2 toc-item\"><a href=\"#Tests\" data-toc-modified-id=\"Tests-11\"><span class=\"toc-item-num\">1.1&nbsp;&nbsp;</span>Tests</a></div><div class=\"lev2 toc-item\"><a href=\"#Comparison-of-symplectic-Integrators\" data-toc-modified-id=\"Comparison-of-symplectic-Integrators-12\"><span class=\"toc-item-num\">1.2&nbsp;&nbsp;</span>Comparison of symplectic Integrators</a></div>\n\n# Solving single pendulums by DifferentialEquations.jl\n\nIn this notebook, we shall solve the single pendulum equation:\n\n$$\n\\ddot q = -\\sin q,\n$$\n\nwhere $q$ means the angle.\n\nHamiltonian:\n\n$$\nH(q,p) = \\frac{1}{2}p^2 - \\cos q + 1.\n$$\n\nCanonical equation:\n\n$$\n\\dot q = p, \\quad \\dot p = - \\sin q.\n$$\n\nInitial condition:\n\n$$\nq(0) = 0, \\quad p(0) = 2k.\n$$\n\nExact solution:\n\n$$\nq(t) = 2\\arcsin(k\\,\\mathrm{sn}(t,k)).\n$$\n\nMaximum of $q(t)$:\n\n$$\n\\sin(q_{\\max}/2) = k, \\quad q_{\\max} = \\max\\{q(t)\\}.\n$$\n\nDefine $y(t)$ by\n\n$$\ny(t) = \\sin(q(t)/2) = k\\,\\mathrm{sn}(t,k), \\quad y_{\\max} = k.\n$$"
      ],
      "metadata": {}
    },
    {
      "outputs": [],
      "cell_type": "code",
      "source": [
        "# Single pendulums shall be solved numerically.\n#\nusing OrdinaryDiffEq, Elliptic, Printf, DiffEqPhysics, Statistics\n\nsol2q(sol) = [sol.u[i][j] for i in 1:length(sol.u), j in 1:length(sol.u[1])÷2]\nsol2p(sol) = [sol.u[i][j] for i in 1:length(sol.u), j in length(sol.u[1])÷2+1:length(sol.u[1])]\nsol2tqp(sol) = (sol.t, sol2q(sol), sol2p(sol))\n\n# The exact solutions of single pendulums can be expressed by the Jacobian elliptic functions.\n#\nsn(u, k) = Jacobi.sn(u, k^2) # the Jacobian sn function\n\n# Use PyPlot.\n#\nusing PyPlot\n\ncolorlist = [\n    \"#1f77b4\", \"#ff7f0e\", \"#2ca02c\", \"#d62728\", \"#9467bd\",\n    \"#8c564b\", \"#e377c2\", \"#7f7f7f\", \"#bcbd22\", \"#17becf\",\n]\ncc(k) = colorlist[mod1(k, length(colorlist))]\n\n# plot the sulution of a Hamiltonian problem\n#\nfunction plotsol(sol::ODESolution)\n    local t, q, p\n    t, q, p = sol2tqp(sol)\n    local d = size(q)[2]\n    for j in 1:d\n        j_str = d > 1 ? \"[$j]\" : \"\"\n        plot(t, q[:,j], color=cc(2j-1), label=\"q$(j_str)\", lw=1)\n        plot(t, p[:,j], color=cc(2j),   label=\"p$(j_str)\", lw=1, ls=\"--\")\n    end\n    grid(ls=\":\")\n    xlabel(\"t\")\n    legend()\nend\n\n# plot the solution of a Hamiltonian problem on the 2D phase space\n#\nfunction plotsol2(sol::ODESolution)\n    local t, q, p\n    t, q, p = sol2tqp(sol)\n    local d = size(q)[2]\n    for j in 1:d\n        j_str = d > 1 ? \"[$j]\" : \"\"\n        plot(q[:,j], p[:,j], color=cc(j), label=\"(q$(j_str),p$(j_str))\", lw=1)\n    end\n    grid(ls=\":\")\n    xlabel(\"q\")\n    ylabel(\"p\")\n    legend()\nend\n\n# plot the energy of a Hamiltonian problem\n#\nfunction plotenergy(H, sol::ODESolution)\n    local t, q, p\n    t, q, p = sol2tqp(sol)\n    local energy = [H(q[i,:], p[i,:], nothing) for i in 1:size(q)[1]]\n    plot(t, energy, label=\"energy\", color=\"red\", lw=1)\n    grid(ls=\":\")\n    xlabel(\"t\")\n    legend()\n    local stdenergy_str = @sprintf(\"%.3e\", std(energy))\n    title(\"                    std(energy) = $stdenergy_str\", fontsize=10)\nend\n\n# plot the numerical and exact solutions of a single pendulum\n#\n# Warning: Assume q(0) = 0, p(0) = 2k.   (for the sake of laziness)\n#\nfunction plotcomparison(k, sol::ODESolution)\n    local t, q, p\n    t, q, p = sol2tqp(sol)\n    local y = sin.(q/2)\n    local y_exact = k*sn.(t, k) # the exact solution\n\n    plot(t, y,       label=\"numerical\", lw=1)\n    plot(t, y_exact, label=\"exact\",     lw=1, ls=\"--\")\n    grid(ls=\":\")\n    xlabel(\"t\")\n    ylabel(\"y = sin(q(t)/2)\")\n    legend()\n    local error_str = @sprintf(\"%.3e\", maximum(abs.(y - y_exact)))\n    title(\"maximum(abs(numerical - exact)) = $error_str\", fontsize=10)\nend\n\n# plot solution and energy\n#\nfunction plotsolenergy(H, integrator, Δt, sol::ODESolution)\n    local integrator_str = replace(\"$integrator\", r\"^[^.]*\\.\" => \"\")\n\n    figure(figsize=(10,8))\n\n    subplot2grid((21,20), ( 1, 0), rowspan=10, colspan=10)\n    plotsol(sol)\n\n    subplot2grid((21,20), ( 1,10), rowspan=10, colspan=10)\n    plotsol2(sol)\n\n    subplot2grid((21,20), (11, 0), rowspan=10, colspan=10)\n    plotenergy(H, sol)\n\n    suptitle(\"=====    $integrator_str,   Δt = $Δt    =====\")\nend\n\n# Solve a single pendulum\n#\nfunction singlependulum(k, integrator, Δt; t0 = 0.0, t1 = 100.0)\n    local H(p,q,params) = p[1]^2/2 - cos(q[1]) + 1\n    local q0 = [0.0]\n    local p0 = [2k]\n    local prob = HamiltonianProblem(H, p0, q0, (t0, t1))\n\n    local integrator_str = replace(\"$integrator\", r\"^[^.]*\\.\" => \"\")\n    @printf(\"%-25s\", \"$integrator_str:\")\n    sol = solve(prob, integrator, dt=Δt)\n    @time local sol = solve(prob, integrator, dt=Δt)\n\n    sleep(0.1)\n    figure(figsize=(10,8))\n\n    subplot2grid((21,20), ( 1, 0), rowspan=10, colspan=10)\n    plotsol(sol)\n\n    subplot2grid((21,20), ( 1,10), rowspan=10, colspan=10)\n    plotsol2(sol)\n\n    subplot2grid((21,20), (11, 0), rowspan=10, colspan=10)\n    plotenergy(H, sol)\n\n    subplot2grid((21,20), (11,10), rowspan=10, colspan=10)\n    plotcomparison(k, sol)\n\n    suptitle(\"=====    $integrator_str,   Δt = $Δt    =====\")\nend"
      ],
      "metadata": {},
      "execution_count": null
    },
    {
      "cell_type": "markdown",
      "source": [
        "## Tests\n\nhttp://docs.juliadiffeq.org/latest/types/dynamical_types.html#Hamiltonian-Problems-1\n\nhttp://docs.juliadiffeq.org/latest/solvers/dynamical_solve.html"
      ],
      "metadata": {}
    },
    {
      "outputs": [],
      "cell_type": "code",
      "source": [
        "# Single pendulum\n\nk = rand()\nintegrator = VelocityVerlet()\nΔt = 0.1\nsinglependulum(k, integrator, Δt, t0=-20.0, t1=20.0)"
      ],
      "metadata": {},
      "execution_count": null
    },
    {
      "outputs": [],
      "cell_type": "code",
      "source": [
        "# Two single pendulums\n\nH(q,p,param) = sum(p.^2/2 .- cos.(q) .+ 1)\nq0 = pi*rand(2)\np0 = zeros(2)\nt0, t1 = -20.0, 20.0\nprob = HamiltonianProblem(H, q0, p0, (t0, t1))\n\nintegrator = VelocityVerlet()\nΔt = 0.1\nsol = solve(prob, integrator, dt=Δt)\n@time sol = solve(prob, integrator, dt=Δt)\n\nsleep(0.1)\nplotsolenergy(H, integrator, Δt, sol)"
      ],
      "metadata": {},
      "execution_count": null
    },
    {
      "cell_type": "markdown",
      "source": [
        "## Comparison of symplectic Integrators\n\nhttp://docs.juliadiffeq.org/latest/solvers/dynamical_solve.html#Symplectic-Integrators-1"
      ],
      "metadata": {}
    },
    {
      "outputs": [],
      "cell_type": "code",
      "source": [
        "SymplecticIntegrators = [\n    SymplecticEuler(),\n    VelocityVerlet(),\n    VerletLeapfrog(),\n    PseudoVerletLeapfrog(),\n    McAte2(),\n    Ruth3(),\n    McAte3(),\n    CandyRoz4(),\n    McAte4(),\n    CalvoSanz4(),\n    McAte42(),\n    McAte5(),\n    Yoshida6(),\n    KahanLi6(),\n    McAte8(),\n    KahanLi8(),\n    SofSpa10(),\n]\n\nk = 0.999\nΔt = 0.1\nfor integrator in SymplecticIntegrators\n    singlependulum(k, integrator, Δt)\nend"
      ],
      "metadata": {},
      "execution_count": null
    },
    {
      "outputs": [],
      "cell_type": "code",
      "source": [
        "k = 0.999\nΔt = 0.01\nfor integrator in SymplecticIntegrators[1:4]\n    singlependulum(k, integrator, Δt)\nend"
      ],
      "metadata": {},
      "execution_count": null
    },
    {
      "outputs": [],
      "cell_type": "code",
      "source": [
        "k = 0.999\nΔt = 0.001\nsinglependulum(k, SymplecticEuler(), Δt)"
      ],
      "metadata": {},
      "execution_count": null
    },
    {
      "outputs": [],
      "cell_type": "code",
      "source": [
        "k = 0.999\nΔt = 0.0001\nsinglependulum(k, SymplecticEuler(), Δt)"
      ],
      "metadata": {},
      "execution_count": null
    },
    {
      "outputs": [],
      "cell_type": "code",
      "source": [
        "using DiffEqBenchmarks\nDiffEqBenchmarks.bench_footer(WEAVE_ARGS[:folder],WEAVE_ARGS[:file])"
      ],
      "metadata": {},
      "execution_count": null
    }
  ],
  "nbformat_minor": 2,
  "metadata": {
    "language_info": {
      "file_extension": ".jl",
      "mimetype": "application/julia",
      "name": "julia",
      "version": "1.1.0"
    },
    "kernelspec": {
      "name": "julia-1.1",
      "display_name": "Julia 1.1.0",
      "language": "julia"
    }
  },
  "nbformat": 4
}
