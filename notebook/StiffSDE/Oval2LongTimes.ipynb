{
  "cells": [
    {
      "outputs": [],
      "cell_type": "code",
      "source": [
        "using StochasticDiffEq, DiffEqProblemLibrary, Random\nRandom.seed!(200)\nusing DiffEqProblemLibrary.SDEProblemLibrary: importsdeproblems; importsdeproblems()\nprob = DiffEqProblemLibrary.SDEProblemLibrary.oval2ModelExample(largeFluctuations=true,useBigs=false)"
      ],
      "metadata": {},
      "execution_count": null
    },
    {
      "outputs": [],
      "cell_type": "code",
      "source": [
        "Random.seed!(200)\n@time for i in 1:10\n    sol = solve(prob,SRIW1(),dt=(1/2)^(18),qmax=1.125,\n        saveat=0.1,maxiters=1e7,abstol=1e-5,reltol=1e-3)\nend"
      ],
      "metadata": {},
      "execution_count": null
    },
    {
      "outputs": [],
      "cell_type": "code",
      "source": [
        "Random.seed!(200)\n@time for i in 1:10\n    @show i\n    sol = solve(prob,ImplicitEM(),dt=1/60000)\nend"
      ],
      "metadata": {},
      "execution_count": null
    },
    {
      "outputs": [],
      "cell_type": "code",
      "source": [
        "Random.seed!(200)\n@time for i in 1:10\n    @show i\n    sol = solve(prob,ImplicitRKMil(),dt=1/50000)\nend"
      ],
      "metadata": {},
      "execution_count": null
    },
    {
      "outputs": [],
      "cell_type": "code",
      "source": [
        "Random.seed!(200)\n@time for i in 1:10\n    sol = solve(prob,SOSRI(),dt=(1/2)^(18),qmax=1.125,\n          saveat=0.1,maxiters=1e7,abstol=1e-4,reltol=1e-2)\nend"
      ],
      "metadata": {},
      "execution_count": null
    },
    {
      "outputs": [],
      "cell_type": "code",
      "source": [
        "Random.seed!(200)\n@time for i in 1:10\n    sol = solve(prob,SOSRI2(),dt=(1/2)^(18),qmax=1.125,\n          saveat=0.1,maxiters=1e7,abstol=1e-4,reltol=1e-4)\nend"
      ],
      "metadata": {},
      "execution_count": null
    },
    {
      "outputs": [],
      "cell_type": "code",
      "source": [
        "Random.seed!(200)\n@time for i in 1:10\n    sol = solve(prob,SOSRI2(),dt=(1/2)^(18),qmax=1.125,\n          saveat=0.1,maxiters=1e7,abstol=1e-5,reltol=1e-3)\nend"
      ],
      "metadata": {},
      "execution_count": null
    },
    {
      "outputs": [],
      "cell_type": "code",
      "source": [
        "Random.seed!(200)\n@time for i in 1:10\n    sol = solve(prob,SOSRI(),dt=(1/2)^(18),qmax=1.125,\n          saveat=0.1,maxiters=1e7,abstol=1e-3,reltol=1e-2)\nend"
      ],
      "metadata": {},
      "execution_count": null
    },
    {
      "outputs": [],
      "cell_type": "code",
      "source": [
        "Random.seed!(200)\n@time for i in 1:10\n    sol = solve(prob,SOSRI(),dt=(1/2)^(18),qmax=1.125,\n          saveat=0.1,maxiters=1e7,abstol=1e-4,reltol=1e-4)\nend"
      ],
      "metadata": {},
      "execution_count": null
    },
    {
      "outputs": [],
      "cell_type": "code",
      "source": [
        "Random.seed!(200)\n@time for i in 1:10\n    sol = solve(prob,SOSRI(),dt=(1/2)^(18),qmax=1.125,\n          saveat=0.1,maxiters=1e7,abstol=1e-2,reltol=1e-2)\nend"
      ],
      "metadata": {},
      "execution_count": null
    },
    {
      "outputs": [],
      "cell_type": "code",
      "source": [
        "Random.seed!(200)\n@time for i in 1:10\n    sol = solve(prob,SOSRI(),dt=(1/2)^(18),qmax=1.125,\n          saveat=0.1,maxiters=1e7,abstol=1e-5,reltol=1e-3)\nend"
      ],
      "metadata": {},
      "execution_count": null
    },
    {
      "outputs": [],
      "cell_type": "code",
      "source": [
        "Random.seed!(200)\n@time for i in 1:10\n    sol = solve(prob,SOSRI(),dt=(1/2)^(18),qmax=1.125,\n          saveat=0.1,maxiters=1e7,abstol=1e-2,reltol=1e-1)\nend"
      ],
      "metadata": {},
      "execution_count": null
    },
    {
      "outputs": [],
      "cell_type": "code",
      "source": [
        "Random.seed!(200)\n@time for i in 1:10\n    sol = solve(prob,SOSRI2(),dt=(1/2)^(18),qmax=1.125,\n          saveat=0.1,maxiters=1e7,abstol=1e-4,reltol=1e-1)\nend"
      ],
      "metadata": {},
      "execution_count": null
    },
    {
      "outputs": [],
      "cell_type": "code",
      "source": [
        "Random.seed!(200)\n@time for i in 1:10\n    @show i\n    sol = solve(prob,ImplicitEM(),dt=1/50000)\nend"
      ],
      "metadata": {},
      "execution_count": null
    },
    {
      "outputs": [],
      "cell_type": "code",
      "source": [
        "Random.seed!(200)\n@time for i in 1:10\n    @show i\n    sol = solve(prob,ImplicitRKMil(),dt=1/40000)\nend"
      ],
      "metadata": {},
      "execution_count": null
    },
    {
      "outputs": [],
      "cell_type": "code",
      "source": [
        "using DiffEqBenchmarks\nDiffEqBenchmarks.bench_footer(WEAVE_ARGS[:folder],WEAVE_ARGS[:file])"
      ],
      "metadata": {},
      "execution_count": null
    }
  ],
  "nbformat_minor": 2,
  "metadata": {
    "language_info": {
      "file_extension": ".jl",
      "mimetype": "application/julia",
      "name": "julia",
      "version": "1.4.2"
    },
    "kernelspec": {
      "name": "julia-1.4",
      "display_name": "Julia 1.4.2",
      "language": "julia"
    }
  },
  "nbformat": 4
}
