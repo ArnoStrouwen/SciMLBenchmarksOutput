{
  "cells": [
    {
      "cell_type": "markdown",
      "source": [
        "# Quadratic Stiffness\n\nIn this notebook we will explore the quadratic stiffness problem. References:\n\nThe composite Euler method for stiff stochastic\ndifferential equations\n\nKevin Burrage, Tianhai Tian\n\nAnd\n\nS-ROCK: CHEBYSHEV METHODS FOR STIFF STOCHASTIC\nDIFFERENTIAL EQUATIONS\n\nASSYR ABDULLE AND STEPHANE CIRILLI\n\nThis is a scalar SDE with two arguments. The first controls the deterministic stiffness and the later controls the diffusion stiffness."
      ],
      "metadata": {}
    },
    {
      "outputs": [],
      "cell_type": "code",
      "source": [
        "using DiffEqProblemLibrary, StochasticDiffEq, DiffEqDevTools\nusing DiffEqProblemLibrary.SDEProblemLibrary: importsdeproblems; importsdeproblems()\nimport DiffEqProblemLibrary.SDEProblemLibrary: prob_sde_stiffquadito\nusing Plots; gr()\nconst N = 10"
      ],
      "metadata": {},
      "execution_count": null
    },
    {
      "outputs": [],
      "cell_type": "code",
      "source": [
        "prob = remake(prob_sde_stiffquadito,p=(50.0,1.0))\nsol = solve(prob,SRIW1())\nplot(sol)"
      ],
      "metadata": {},
      "execution_count": null
    },
    {
      "outputs": [],
      "cell_type": "code",
      "source": [
        "prob = remake(prob_sde_stiffquadito,p=(500.0,1.0))\nsol = solve(prob,SRIW1())\nplot(sol)"
      ],
      "metadata": {},
      "execution_count": null
    },
    {
      "cell_type": "markdown",
      "source": [
        "## Top dts\n\nLet's first determine the maximum dts which are allowed. Anything higher is mostly unstable.\n\n### Deterministic Stiffness Mild"
      ],
      "metadata": {}
    },
    {
      "outputs": [],
      "cell_type": "code",
      "source": [
        "prob = remake(prob_sde_stiffquadito,p=(50.0,1.0))\n@time sol = solve(prob,SRIW1())\n@time sol = solve(prob,SRIW1(),adaptive=false,dt=0.01)\n@time sol = solve(prob,ImplicitRKMil(),dt=0.005)\n@time sol = solve(prob,EM(),dt=0.01);"
      ],
      "metadata": {},
      "execution_count": null
    },
    {
      "cell_type": "markdown",
      "source": [
        "### Deterministic Stiffness High"
      ],
      "metadata": {}
    },
    {
      "outputs": [],
      "cell_type": "code",
      "source": [
        "prob = remake(prob_sde_stiffquadito,p=(500.0,1.0))\n@time sol = solve(prob,SRIW1())\n@time sol = solve(prob,SRIW1(),adaptive=false,dt=0.002)\n@time sol = solve(prob,ImplicitRKMil(),dt=0.001)\n@time sol = solve(prob,EM(),dt=0.002);"
      ],
      "metadata": {},
      "execution_count": null
    },
    {
      "cell_type": "markdown",
      "source": [
        "### Mixed Stiffness"
      ],
      "metadata": {}
    },
    {
      "outputs": [],
      "cell_type": "code",
      "source": [
        "prob = remake(prob_sde_stiffquadito,p=(5000.0,70.0))\n@time sol = solve(prob,SRIW1(),dt=0.0001)\n@time sol = solve(prob,SRIW1(),adaptive=false,dt=0.00001)\n@time sol = solve(prob,ImplicitRKMil(),dt=0.00001)\n@time sol = solve(prob,EM(),dt=0.00001);"
      ],
      "metadata": {},
      "execution_count": null
    },
    {
      "cell_type": "markdown",
      "source": [
        "Notice that in this problem, the stiffness in the noise term still prevents the semi-implicit integrator to do well. In that case, the advantage of implicitness does not take effect, and thus explicit methods do well. When we don't care about the error, Euler-Maruyama is fastest. When there's mixed stiffness, the adaptive algorithm is unstable.\n\n## Work-Precision Diagrams"
      ],
      "metadata": {}
    },
    {
      "outputs": [],
      "cell_type": "code",
      "source": [
        "prob = remake(prob_sde_stiffquadito,p=(50.0,1.0))\n\nreltols = 1.0 ./ 10.0 .^ (3:5)\nabstols = reltols#[0.0 for i in eachindex(reltols)]\nsetups = [Dict(:alg=>SRIW1()),\n          Dict(:alg=>EM(),:dts=>1.0./8.0.^((1:length(reltols)) .+ 1)),\n          Dict(:alg=>SRIW1(),:dts=>1.0./8.0.^((1:length(reltols)) .+ 1),:adaptive=>false)\n          #Dict(:alg=>RKMil(),:dts=>1.0./8.0.^((1:length(reltols)) .+ 1),:adaptive=>false),\n          ]\nnames = [\"SRIW1\",\"EM\",\"SRIW1 Fixed\"] #\"RKMil\",\nwp = WorkPrecisionSet(prob,abstols,reltols,setups;numruns=N,names=names,error_estimate=:l2)\nplot(wp)"
      ],
      "metadata": {},
      "execution_count": null
    },
    {
      "outputs": [],
      "cell_type": "code",
      "source": [
        "prob = remake(prob_sde_stiffquadito,p=(500.0,1.0))\n\nreltols = 1.0 ./ 10.0 .^ (3:5)\nabstols = reltols#[0.0 for i in eachindex(reltols)]\nsetups = [Dict(:alg=>SRIW1()),\n          Dict(:alg=>EM(),:dts=>1.0./8.0.^((1:length(reltols)) .+ 2)),\n          Dict(:alg=>SRIW1(),:dts=>1.0./8.0.^((1:length(reltols)) .+ 2),:adaptive=>false)\n          #Dict(:alg=>RKMil(),:dts=>1.0./8.0.^((1:length(reltols)) .+ 2),:adaptive=>false),\n          ]\nnames = [\"SRIW1\",\"EM\",\"SRIW1 Fixed\"] #\"RKMil\",\nwp = WorkPrecisionSet(prob,abstols,reltols,setups;numruns=N,names=names,error_estimate=:l2,print_names=true)\nplot(wp)"
      ],
      "metadata": {},
      "execution_count": null
    },
    {
      "cell_type": "markdown",
      "source": [
        "## Conclusion\n\nNoise stiffness is tough. Right now the best solution is to run an explicit integrator with a low enough dt. Adaptivity does have a cost in this case, likely due to memory management."
      ],
      "metadata": {}
    },
    {
      "outputs": [],
      "cell_type": "code",
      "source": [
        "using DiffEqBenchmarks\nDiffEqBenchmarks.bench_footer(WEAVE_ARGS[:folder],WEAVE_ARGS[:file])"
      ],
      "metadata": {},
      "execution_count": null
    }
  ],
  "nbformat_minor": 2,
  "metadata": {
    "language_info": {
      "file_extension": ".jl",
      "mimetype": "application/julia",
      "name": "julia",
      "version": "1.4.2"
    },
    "kernelspec": {
      "name": "julia-1.4",
      "display_name": "Julia 1.4.2",
      "language": "julia"
    }
  },
  "nbformat": 4
}
