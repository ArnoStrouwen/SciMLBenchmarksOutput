{
  "cells": [
    {
      "outputs": [],
      "cell_type": "code",
      "source": [
        "using DiffEqBase, OrdinaryDiffEq, Catalyst, DiffEqJump, DiffEqProblemLibrary.JumpProblemLibrary, Plots, Statistics\ngr()\nfmt = :png\nJumpProblemLibrary.importjumpproblems()"
      ],
      "metadata": {},
      "execution_count": null
    },
    {
      "cell_type": "markdown",
      "source": [
        "# Model and example solutions\nHere we implement the gene expression model from appendix A.6 of Marchetti, Priami and Thanh, *Simulation Algorithms for Comptuational Systems Biology*, Springer (2017)."
      ],
      "metadata": {}
    },
    {
      "outputs": [],
      "cell_type": "code",
      "source": [
        "jprob = prob_jump_dnadimer_repressor\nrn = jprob.network\nrnpar = jprob.rates\nvarlabels = jprob.prob_data[\"specs_names\"]\nu0 = jprob.u0\ntf = jprob.tstop"
      ],
      "metadata": {},
      "execution_count": null
    },
    {
      "outputs": [],
      "cell_type": "code",
      "source": [
        "u0f = [1000., 0., 0., 0.,0.]\nodeprob = ODEProblem(rn, u0f, (0.,tf),rnpar)\nsolution = solve(odeprob,Tsit5())\nplot(solution, format=:png, label=varlabels)"
      ],
      "metadata": {},
      "execution_count": null
    },
    {
      "outputs": [],
      "cell_type": "code",
      "source": [
        "tf      = 4000.\nmethods = (Direct(),DirectFW(),FRM(),FRMFW(),SortingDirect(),NRM(),DirectCR(),RSSA())\nshortlabels = [string(leg)[12:end-2] for leg in methods]\nprob    = prob = DiscreteProblem(u0, (0.0, tf), rnpar)\nploth   = plot(reuse=false)\np = []\nfor (i,method) in enumerate(methods)\n    jump_prob = JumpProblem(rn, prob, method, save_positions=(false, false))\n    sol = solve(jump_prob, SSAStepper(), saveat=tf/1000.)\n    plot!(ploth,sol.t,sol[3,:],label=shortlabels[i], format=fmt)\n    push!(p, plot(sol,title=shortlabels[i],leg=false,format=fmt))\nend\nplot(ploth, title=\"Protein level\", xlabel=\"time\",format=fmt)"
      ],
      "metadata": {},
      "execution_count": null
    },
    {
      "outputs": [],
      "cell_type": "code",
      "source": [
        "plot(p[end],format=fmt,legend=true,labels=varlabels)"
      ],
      "metadata": {},
      "execution_count": null
    },
    {
      "cell_type": "markdown",
      "source": [
        "# Benchmarking performance of the methods"
      ],
      "metadata": {}
    },
    {
      "outputs": [],
      "cell_type": "code",
      "source": [
        "function run_benchmark!(t, jump_prob, stepper)\n    sol = solve(jump_prob, stepper)\n    @inbounds for i in 1:length(t)\n        t[i] = @elapsed (sol = solve(jump_prob, stepper))\n    end\nend"
      ],
      "metadata": {},
      "execution_count": null
    },
    {
      "outputs": [],
      "cell_type": "code",
      "source": [
        "nsims = 50\nbenchmarks = Vector{Vector{Float64}}()\nfor method in methods\n    jump_prob = JumpProblem(rn, prob, method, save_positions=(false, false))\n    stepper = SSAStepper()\n    t = Vector{Float64}(undef, nsims)\n    run_benchmark!(t, jump_prob, stepper)\n    push!(benchmarks, t)\nend"
      ],
      "metadata": {},
      "execution_count": null
    },
    {
      "outputs": [],
      "cell_type": "code",
      "source": [
        "medtimes = Vector{Float64}(undef,length(methods))\nstdtimes = Vector{Float64}(undef,length(methods))\navgtimes = Vector{Float64}(undef,length(methods))\nfor i in 1:length(methods)\n    medtimes[i] = median(benchmarks[i])\n    avgtimes[i] = mean(benchmarks[i])\n    stdtimes[i] = std(benchmarks[i])\nend\n\nusing DataFrames\ndf = DataFrame(names=shortlabels,medtimes=medtimes,relmedtimes=(medtimes/medtimes[1]),avgtimes=avgtimes, std=stdtimes, cv=stdtimes./avgtimes)\nsa = [text(string(round(mt,digits=3),\"s\"),:center,12) for mt in df.medtimes]\nbar(df.names,df.relmedtimes,legend=:false, fmt=fmt)\nscatter!(df.names, .05 .+ df.relmedtimes, markeralpha=0, series_annotations=sa, fmt=fmt)\nylabel!(\"median relative to Direct\")\ntitle!(\"Marchetti Gene Expression Model\")"
      ],
      "metadata": {},
      "execution_count": null
    },
    {
      "outputs": [],
      "cell_type": "code",
      "source": [
        "using SciMLBenchmarks\nSciMLBenchmarks.bench_footer(WEAVE_ARGS[:folder],WEAVE_ARGS[:file])"
      ],
      "metadata": {},
      "execution_count": null
    }
  ],
  "nbformat_minor": 2,
  "metadata": {
    "language_info": {
      "file_extension": ".jl",
      "mimetype": "application/julia",
      "name": "julia",
      "version": "1.6.1"
    },
    "kernelspec": {
      "name": "julia-1.6",
      "display_name": "Julia 1.6.1",
      "language": "julia"
    }
  },
  "nbformat": 4
}
