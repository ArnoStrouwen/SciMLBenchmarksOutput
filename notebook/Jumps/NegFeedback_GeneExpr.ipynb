{
  "cells": [
    {
      "outputs": [],
      "cell_type": "code",
      "source": [
        "using DiffEqBase, DiffEqJump, DiffEqProblemLibrary, Plots, Statistics\nusing DiffEqProblemLibrary.JumpProblemLibrary: importjumpproblems; importjumpproblems()\nimport DiffEqProblemLibrary.JumpProblemLibrary: prob_jump_dnarepressor\ngr()\nfmt = :png"
      ],
      "metadata": {},
      "execution_count": null
    },
    {
      "cell_type": "markdown",
      "source": [
        "# Plot solutions by each method"
      ],
      "metadata": {}
    },
    {
      "outputs": [],
      "cell_type": "code",
      "source": [
        "methods = (Direct(),DirectFW(),FRM(),FRMFW(),SortingDirect(),NRM(),DirectCR(),RSSA())\nshortlabels = [string(leg)[12:end-2] for leg in methods]\nprob    = prob_jump_dnarepressor.discrete_prob\ntf      = prob_jump_dnarepressor.tstop\nrn      = prob_jump_dnarepressor.network\nploth   = plot(reuse=false)\nfor (i,method) in enumerate(methods)\n    jump_prob = JumpProblem(rn, prob, method, save_positions=(false, false))\n    sol = solve(jump_prob, SSAStepper(), saveat=tf/1000.)\n    plot!(ploth,sol.t,sol[3,:],label=shortlabels[i], format=fmt)\nend\nplot(ploth, title=\"Protein level\", xlabel=\"time\",format=fmt)"
      ],
      "metadata": {},
      "execution_count": null
    },
    {
      "outputs": [],
      "cell_type": "code",
      "source": [
        "p = []\nfor (i,method) in enumerate(methods)\n    jump_prob = JumpProblem(rn, prob, method, save_positions=(false, false))\n    sol = solve(jump_prob, SSAStepper(), saveat=tf/1000.)\n    push!(p, plot(sol,title=shortlabels[i],leg=false,format=fmt))\nend\nplot(p...,format=fmt)"
      ],
      "metadata": {},
      "execution_count": null
    },
    {
      "cell_type": "markdown",
      "source": [
        "# Benchmarking performance of the methods"
      ],
      "metadata": {}
    },
    {
      "outputs": [],
      "cell_type": "code",
      "source": [
        "function run_benchmark!(t, jump_prob, stepper)\n    sol = solve(jump_prob, stepper)\n    @inbounds for i in 1:length(t)\n        t[i] = @elapsed (sol = solve(jump_prob, stepper))\n    end\nend"
      ],
      "metadata": {},
      "execution_count": null
    },
    {
      "outputs": [],
      "cell_type": "code",
      "source": [
        "nsims = 500\nbenchmarks = Vector{Vector{Float64}}()\nfor method in methods\n    jump_prob = JumpProblem(rn, prob, method, save_positions=(false, false))\n    stepper = SSAStepper()\n    t = Vector{Float64}(undef,nsims)\n    run_benchmark!(t, jump_prob, stepper)\n    push!(benchmarks, t)\nend"
      ],
      "metadata": {},
      "execution_count": null
    },
    {
      "outputs": [],
      "cell_type": "code",
      "source": [
        "medtimes = Vector{Float64}(undef,length(methods))\nstdtimes = Vector{Float64}(undef,length(methods))\navgtimes = Vector{Float64}(undef,length(methods))\nfor i in 1:length(methods)\n    medtimes[i] = median(benchmarks[i])\n    avgtimes[i] = mean(benchmarks[i])\n    stdtimes[i] = std(benchmarks[i])\nend\nprintln(medtimes/medtimes[1])"
      ],
      "metadata": {},
      "execution_count": null
    },
    {
      "outputs": [],
      "cell_type": "code",
      "source": [
        "using DataFrames\ndf = DataFrame(names=shortlabels,medtimes=medtimes,relmedtimes=(medtimes/medtimes[1]),avgtimes=avgtimes, std=stdtimes, cv=stdtimes./avgtimes)\nsa = [text(string(round(mt,sigdigits=2),\"s\"),:center,10) for mt in df.medtimes]\nbar(df.names,df.relmedtimes,legend=:false, fmt=fmt)\nscatter!(df.names, .05 .+ df.relmedtimes, markeralpha=0, series_annotations=sa, fmt=fmt)\nylabel!(\"median relative to Direct\")\ntitle!(\"Negative Feedback Gene Expression Model\")"
      ],
      "metadata": {},
      "execution_count": null
    },
    {
      "outputs": [],
      "cell_type": "code",
      "source": [
        "using SciMLBenchmarks\nSciMLBenchmarks.bench_footer(WEAVE_ARGS[:folder],WEAVE_ARGS[:file])"
      ],
      "metadata": {},
      "execution_count": null
    }
  ],
  "nbformat_minor": 2,
  "metadata": {
    "language_info": {
      "file_extension": ".jl",
      "mimetype": "application/julia",
      "name": "julia",
      "version": "1.6.1"
    },
    "kernelspec": {
      "name": "julia-1.6",
      "display_name": "Julia 1.6.1",
      "language": "julia"
    }
  },
  "nbformat": 4
}
