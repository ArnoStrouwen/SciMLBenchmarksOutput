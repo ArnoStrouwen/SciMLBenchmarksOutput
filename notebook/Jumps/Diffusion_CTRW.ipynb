{
  "cells": [
    {
      "outputs": [],
      "cell_type": "code",
      "source": [
        "using DiffEqBase, DiffEqBiological, DiffEqJump, Plots, Statistics, DataFrames\ngr()\nfmt = :png"
      ],
      "metadata": {},
      "execution_count": null
    },
    {
      "cell_type": "markdown",
      "source": [
        "# Model and example solutions\nHere we implement a 1D continuous time random walk approximation of diffusion for $N$ lattice sites on $\\left[0,1\\right]$, with reflecting boundary conditions at $x=0$ and $x=1$."
      ],
      "metadata": {}
    },
    {
      "outputs": [],
      "cell_type": "code",
      "source": [
        "N = 256\nh = 1 / N\nrn = @empty_reaction_network\nfunction getDiffNetwork!(rn,N)    \n    for i = 1:N\n        addspecies!(rn, Symbol(:u, i))\n    end\n    addparam!(rn, :β)\n    for i = 1:N\n        (i < N) && addreaction!(rn, :β, (Symbol(:u,i)=>1,), (Symbol(:u,i+1)=>1,))\n        (i > 1) && addreaction!(rn, :β, (Symbol(:u,i)=>1,), (Symbol(:u,i-1)=>1,))\n    end\n    rn\nend\ngetDiffNetwork!(rn,N)\naddjumps!(rn, build_regular_jumps=false, minimal_jumps=true)\nrnpar = [1/(h*h)]\nu0 = 10*ones(Int64, N)\ntf = .01"
      ],
      "metadata": {},
      "execution_count": null
    },
    {
      "outputs": [],
      "cell_type": "code",
      "source": [
        "methods = (Direct(),DirectFW(),SortingDirect(),NRM(),DirectCR(),RSSA())\nshortlabels = [string(leg)[12:end-2] for leg in methods]\nprob    = prob = DiscreteProblem(u0, (0.0, tf), rnpar)\nploth   = plot(reuse=false)\nfor (i,method) in enumerate(methods)\n    println(\"Benchmarking method: \", method)\n    jump_prob = JumpProblem(prob, method, rn, save_positions=(false,false))\n    sol = solve(jump_prob, SSAStepper(), saveat=tf/1000.)\n    plot!(ploth,sol.t,sol[Int(N//2),:],label=shortlabels[i], format=fmt)\nend\nplot!(ploth, title=\"Population at middle lattice site\", xlabel=\"time\",format=fmt)"
      ],
      "metadata": {},
      "execution_count": null
    },
    {
      "cell_type": "markdown",
      "source": [
        "# Benchmarking performance of the methods"
      ],
      "metadata": {}
    },
    {
      "outputs": [],
      "cell_type": "code",
      "source": [
        "function run_benchmark!(t, jump_prob, stepper)\n    sol = solve(jump_prob, stepper)\n    @inbounds for i in 1:length(t)\n        t[i] = @elapsed (sol = solve(jump_prob, stepper))\n    end\nend"
      ],
      "metadata": {},
      "execution_count": null
    },
    {
      "outputs": [],
      "cell_type": "code",
      "source": [
        "nsims = 50\nbenchmarks = Vector{Vector{Float64}}()\nfor method in methods\n    jump_prob = JumpProblem(prob, method, rn, save_positions=(false,false))\n    stepper = SSAStepper()\n    t = Vector{Float64}(undef,nsims)\n    run_benchmark!(t, jump_prob, stepper)\n    push!(benchmarks, t)\nend"
      ],
      "metadata": {},
      "execution_count": null
    },
    {
      "outputs": [],
      "cell_type": "code",
      "source": [
        "medtimes = Vector{Float64}(undef,length(methods))\nstdtimes = Vector{Float64}(undef,length(methods))\navgtimes = Vector{Float64}(undef,length(methods))\nfor i in 1:length(methods)\n    medtimes[i] = median(benchmarks[i])\n    avgtimes[i] = mean(benchmarks[i])\n    stdtimes[i] = std(benchmarks[i])\nend\n\ndf = DataFrame(names=shortlabels,medtimes=medtimes,relmedtimes=(medtimes/medtimes[1]),\n                avgtimes=avgtimes, std=stdtimes, cv=stdtimes./avgtimes)"
      ],
      "metadata": {},
      "execution_count": null
    },
    {
      "cell_type": "markdown",
      "source": [
        "# Plotting"
      ],
      "metadata": {}
    },
    {
      "outputs": [],
      "cell_type": "code",
      "source": [
        "sa = [string(round(mt,digits=4),\"s\") for mt in df.medtimes]\nbar(df.names,df.relmedtimes,legend=:false, fmt=fmt)\nscatter!(df.names, .05 .+ df.relmedtimes, markeralpha=0, series_annotations=sa, fmt=fmt)\nylabel!(\"median relative to Direct\")\ntitle!(\"256 Site 1D Diffusion CTRW\")"
      ],
      "metadata": {},
      "execution_count": null
    },
    {
      "outputs": [],
      "cell_type": "code",
      "source": [
        "using DiffEqBenchmarks\nDiffEqBenchmarks.bench_footer(WEAVE_ARGS[:folder],WEAVE_ARGS[:file])"
      ],
      "metadata": {},
      "execution_count": null
    }
  ],
  "nbformat_minor": 2,
  "metadata": {
    "language_info": {
      "file_extension": ".jl",
      "mimetype": "application/julia",
      "name": "julia",
      "version": "1.4.2"
    },
    "kernelspec": {
      "name": "julia-1.4",
      "display_name": "Julia 1.4.2",
      "language": "julia"
    }
  },
  "nbformat": 4
}
