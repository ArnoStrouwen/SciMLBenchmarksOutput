{
  "cells": [
    {
      "outputs": [],
      "cell_type": "code",
      "source": [
        "using DiffEqBase, Catalyst, DiffEqJump, DiffEqProblemLibrary.JumpProblemLibrary, Plots, Statistics, DataFrames\ngr()\nfmt = :png\nJumpProblemLibrary.importjumpproblems()"
      ],
      "metadata": {},
      "execution_count": null
    },
    {
      "cell_type": "markdown",
      "source": [
        "# Model and example solutions\nHere we implement a 1D continuous time random walk approximation of diffusion for $N$ lattice sites on $\\left[0,1\\right]$, with reflecting boundary conditions at $x=0$ and $x=1$."
      ],
      "metadata": {}
    },
    {
      "outputs": [],
      "cell_type": "code",
      "source": [
        "N = 256\nh = 1 / N\nu0 = 10*ones(Int64, N)\ntf = .01\nmethods = (Direct(),DirectFW(),SortingDirect(),NRM(),DirectCR(),RSSA())\nshortlabels = [string(leg)[12:end-2] for leg in methods]\njprob   = prob_jump_diffnetwork\nprob    = DiscreteProblem(u0, (0.0, tf), [1 / (h*h)])\nrn      = jprob.network(N)\nploth   = plot(reuse=false)\nfor (i,method) in enumerate(methods)\n    println(\"Benchmarking method: \", method)\n    jump_prob = JumpProblem(rn, prob, method, save_positions=(false, false))\n    sol = solve(jump_prob, SSAStepper(), saveat=tf/1000.)\n    plot!(ploth,sol.t,sol[Int(N//2),:],label=shortlabels[i], format=fmt)\nend\nplot!(ploth, title=\"Population at middle lattice site\", xlabel=\"time\",format=fmt)"
      ],
      "metadata": {},
      "execution_count": null
    },
    {
      "cell_type": "markdown",
      "source": [
        "# Benchmarking performance of the methods"
      ],
      "metadata": {}
    },
    {
      "outputs": [],
      "cell_type": "code",
      "source": [
        "function run_benchmark!(t, jump_prob, stepper)\n    sol = solve(jump_prob, stepper)\n    @inbounds for i in 1:length(t)\n        t[i] = @elapsed (sol = solve(jump_prob, stepper))\n    end\nend"
      ],
      "metadata": {},
      "execution_count": null
    },
    {
      "outputs": [],
      "cell_type": "code",
      "source": [
        "nsims = 50\nbenchmarks = Vector{Vector{Float64}}()\nfor method in methods\n    jump_prob = JumpProblem(rn, prob, method, save_positions=(false, false))\n    stepper = SSAStepper()\n    t = Vector{Float64}(undef,nsims)\n    run_benchmark!(t, jump_prob, stepper)\n    push!(benchmarks, t)\nend"
      ],
      "metadata": {},
      "execution_count": null
    },
    {
      "outputs": [],
      "cell_type": "code",
      "source": [
        "medtimes = Vector{Float64}(undef,length(methods))\nstdtimes = Vector{Float64}(undef,length(methods))\navgtimes = Vector{Float64}(undef,length(methods))\nfor i in 1:length(methods)\n    medtimes[i] = median(benchmarks[i])\n    avgtimes[i] = mean(benchmarks[i])\n    stdtimes[i] = std(benchmarks[i])\nend\n\ndf = DataFrame(names=shortlabels,medtimes=medtimes,relmedtimes=(medtimes/medtimes[1]),\n                avgtimes=avgtimes, std=stdtimes, cv=stdtimes./avgtimes)"
      ],
      "metadata": {},
      "execution_count": null
    },
    {
      "cell_type": "markdown",
      "source": [
        "# Plotting"
      ],
      "metadata": {}
    },
    {
      "outputs": [],
      "cell_type": "code",
      "source": [
        "sa = [string(round(mt,digits=4),\"s\") for mt in df.medtimes]\nbar(df.names,df.relmedtimes,legend=:false, fmt=fmt)\nscatter!(df.names, .05 .+ df.relmedtimes, markeralpha=0, series_annotations=sa, fmt=fmt)\nylabel!(\"median relative to Direct\")\ntitle!(\"256 Site 1D Diffusion CTRW\")"
      ],
      "metadata": {},
      "execution_count": null
    },
    {
      "outputs": [],
      "cell_type": "code",
      "source": [
        "using SciMLBenchmarks\nSciMLBenchmarks.bench_footer(WEAVE_ARGS[:folder],WEAVE_ARGS[:file])"
      ],
      "metadata": {},
      "execution_count": null
    }
  ],
  "nbformat_minor": 2,
  "metadata": {
    "language_info": {
      "file_extension": ".jl",
      "mimetype": "application/julia",
      "name": "julia",
      "version": "1.6.2"
    },
    "kernelspec": {
      "name": "julia-1.6",
      "display_name": "Julia 1.6.2",
      "language": "julia"
    }
  },
  "nbformat": 4
}
