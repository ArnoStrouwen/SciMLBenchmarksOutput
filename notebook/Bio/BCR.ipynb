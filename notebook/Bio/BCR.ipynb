{
  "cells": [
    {
      "cell_type": "markdown",
      "source": [
        "The following benchmark is of 1122 ODEs with 24388 terms that describe a stiff\nchemical reaction network modeling the BCR signaling network from [Barua et\nal.](https://doi.org/10.4049/jimmunol.1102003). We use\n[`ReactionNetworkImporters`](https://github.com/isaacsas/ReactionNetworkImporters.jl)\nto load the BioNetGen model files as a\n[Catalyst](https://github.com/SciML/Catalyst.jl) model, and then use\n[ModelingToolkit](https://github.com/SciML/ModelingToolkit.jl) to convert the\nCatalyst network model to ODEs."
      ],
      "metadata": {}
    },
    {
      "outputs": [],
      "cell_type": "code",
      "source": [
        "using DiffEqBase, OrdinaryDiffEq, Catalyst, ReactionNetworkImporters,\n      Sundials, Plots, DiffEqDevTools, ODEInterface, ODEInterfaceDiffEq,\n      LSODA, TimerOutputs, LinearAlgebra, ModelingToolkit\n      \ngr()\ndatadir  = joinpath(dirname(pathof(ReactionNetworkImporters)),\"../data/bcr\")\nconst to = TimerOutput()\ntf       = 100000.0\n\n# generate ModelingToolkit ODEs\n@timeit to \"Parse Network\" prnbng = loadrxnetwork(BNGNetwork(), joinpath(datadir, \"bcr.net\"))\nrn    = prnbng.rn\n@timeit to \"Create ODESys\" osys = convert(ODESystem, rn)\n\nu₀    = prnbng.u₀\np     = prnbng.p\ntspan = (0.,tf)\n@timeit to \"ODEProb No Jac\" oprob = ODEProblem(osys, u₀, tspan, p)\n@timeit to \"ODEProb DenseJac\" densejacprob = ODEProblem(osys, u₀, tspan, p, jac=true)"
      ],
      "metadata": {},
      "execution_count": null
    },
    {
      "outputs": [],
      "cell_type": "code",
      "source": [
        "@timeit to \"ODEProb SparseJac\" sparsejacprob = ODEProblem(osys, u₀, tspan, p, jac=true, sparse=true)\nshow(to)"
      ],
      "metadata": {},
      "execution_count": null
    },
    {
      "outputs": [],
      "cell_type": "code",
      "source": [
        "@show numspecies(rn) # Number of ODEs\n@show numreactions(rn) # Apprx. number of terms in the ODE\n@show numparams(rn) # Number of Parameters"
      ],
      "metadata": {},
      "execution_count": null
    },
    {
      "cell_type": "markdown",
      "source": [
        "## Time ODE derivative function compilation\nAs compiling the ODE derivative functions has in the past taken longer than\nrunning a simulation, we first force compilation by evaluating these functions\none time."
      ],
      "metadata": {}
    },
    {
      "outputs": [],
      "cell_type": "code",
      "source": [
        "u  = copy(u₀)\ndu = similar(u)\n@timeit to \"ODERHS Eval1\" oprob.f(du,u,p,0.)\n@timeit to \"ODERHS Eval2\" oprob.f(du,u,p,0.)\n\n# force compilation for dense and sparse problem rhs\ndensejacprob.f(du,u,p,0.)\nsparsejacprob.f(du,u,p,0.)\n\nJ = zeros(length(u),length(u))\n@timeit to \"DenseJac Eval1\" densejacprob.f.jac(J,u,p,0.)\n@timeit to \"DenseJac Eval2\" densejacprob.f.jac(J,u,p,0.)"
      ],
      "metadata": {},
      "execution_count": null
    },
    {
      "outputs": [],
      "cell_type": "code",
      "source": [
        "Js = similar(sparsejacprob.f.jac_prototype)\n@timeit to \"SparseJac Eval1\" sparsejacprob.f.jac(Js,u,p,0.)\n@timeit to \"SparseJac Eval2\" sparsejacprob.f.jac(Js,u,p,0.)\nshow(to)"
      ],
      "metadata": {},
      "execution_count": null
    },
    {
      "cell_type": "markdown",
      "source": [
        "## Picture of the solution"
      ],
      "metadata": {}
    },
    {
      "outputs": [],
      "cell_type": "code",
      "source": [
        "sol = solve(oprob, CVODE_BDF(), saveat=tf/1000., reltol=1e-5, abstol=1e-5)\nplot(sol, legend=false, fmt=:png)"
      ],
      "metadata": {},
      "execution_count": null
    },
    {
      "cell_type": "markdown",
      "source": [
        "For these benchmarks we will be using the time-series error with these saving\npoints since the final time point is not well-indicative of the solution\nbehavior (capturing the oscillation is the key!).\n\n## Generate Test Solution"
      ],
      "metadata": {}
    },
    {
      "outputs": [],
      "cell_type": "code",
      "source": [
        "@time sol = solve(oprob, CVODE_BDF(), abstol=1/10^12, reltol=1/10^12)\ntest_sol  = TestSolution(sol)"
      ],
      "metadata": {},
      "execution_count": null
    },
    {
      "cell_type": "markdown",
      "source": [
        "## Setups"
      ],
      "metadata": {}
    },
    {
      "outputs": [],
      "cell_type": "code",
      "source": [
        "abstols = 1.0 ./ 10.0 .^ (5:8)\nreltols = 1.0 ./ 10.0 .^ (5:8);\nsetups = [\n          #Dict(:alg=>Rosenbrock23(autodiff=false)),\n          Dict(:alg=>TRBDF2(autodiff=false)),\n          Dict(:alg=>CVODE_BDF()),\n          Dict(:alg=>CVODE_BDF(linear_solver=:LapackDense)),\n          #Dict(:alg=>rodas()),\n          #Dict(:alg=>radau()),\n          #Dict(:alg=>Rodas4(autodiff=false)),\n          #Dict(:alg=>Rodas5(autodiff=false)),\n          Dict(:alg=>KenCarp4(autodiff=false)),\n          #Dict(:alg=>RadauIIA5(autodiff=false)),\n          #Dict(:alg=>lsoda()),\n          ]"
      ],
      "metadata": {},
      "execution_count": null
    },
    {
      "cell_type": "markdown",
      "source": [
        "## Automatic Jacobian Solves\n\nDue to the computational cost of the problem, we are only going to focus on the\nmethods which demonstrated computational efficiency on the smaller biochemical\nbenchmark problems. This excludes the exponential integrator, stabilized explicit,\nand extrapolation classes of methods.\n\nFirst we test using auto-generated Jacobians (finite difference)"
      ],
      "metadata": {}
    },
    {
      "outputs": [],
      "cell_type": "code",
      "source": [
        "wp = WorkPrecisionSet(oprob,abstols,reltols,setups;error_estimate=:l2,\n                      saveat=tf/10000.,appxsol=test_sol,maxiters=Int(1e5),numruns=1)\nplot(wp)"
      ],
      "metadata": {},
      "execution_count": null
    },
    {
      "cell_type": "markdown",
      "source": [
        "## Analytical Jacobian\nNow we test using the generated analytic Jacobian function."
      ],
      "metadata": {}
    },
    {
      "outputs": [],
      "cell_type": "code",
      "source": [
        "wp = WorkPrecisionSet(densejacprob,abstols,reltols,setups;error_estimate=:l2,\n                      saveat=tf/10000.,appxsol=test_sol,maxiters=Int(1e5),numruns=1)\nplot(wp)"
      ],
      "metadata": {},
      "execution_count": null
    },
    {
      "cell_type": "markdown",
      "source": [
        "## Sparse Jacobian\nFinally we test using the generated sparse analytic Jacobian function."
      ],
      "metadata": {}
    },
    {
      "outputs": [],
      "cell_type": "code",
      "source": [
        "setups = [\n          #Dict(:alg=>Rosenbrock23(autodiff=false)),\n          Dict(:alg=>TRBDF2(autodiff=false)),\n          #Dict(:alg=>CVODE_BDF(linear_solver=:KLU)),\n          #Dict(:alg=>rodas()),\n          #Dict(:alg=>radau()),\n          #Dict(:alg=>Rodas4(autodiff=false)),\n          #Dict(:alg=>Rodas5(autodiff=false)),\n          Dict(:alg=>KenCarp4(autodiff=false)),\n          #Dict(:alg=>RadauIIA5(autodiff=false)),\n          #Dict(:alg=>lsoda()),\n          ]\nwp = WorkPrecisionSet(sparsejacprob,abstols,reltols,setups;error_estimate=:l2,\n                      saveat=tf/10000.,appxsol=test_sol,maxiters=Int(1e5),numruns=1)\nplot(wp)"
      ],
      "metadata": {},
      "execution_count": null
    }
  ],
  "nbformat_minor": 2,
  "metadata": {
    "language_info": {
      "file_extension": ".jl",
      "mimetype": "application/julia",
      "name": "julia",
      "version": "1.6.1"
    },
    "kernelspec": {
      "name": "julia-1.6",
      "display_name": "Julia 1.6.1",
      "language": "julia"
    }
  },
  "nbformat": 4
}
