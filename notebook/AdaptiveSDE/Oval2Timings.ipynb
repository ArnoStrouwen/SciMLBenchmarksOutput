{
  "cells": [
    {
      "cell_type": "markdown",
      "source": [
        "# Oval2 Timings\n### Chris Rackauckas"
      ],
      "metadata": {}
    },
    {
      "outputs": [],
      "cell_type": "code",
      "source": [
        "using Distributed\naddprocs()\n\n@everywhere begin\n  using StochasticDiffEq, DiffEqProblemLibrary, ParallelDataTransfer, Random\n  using DiffEqProblemLibrary.SDEProblemLibrary: importsdeproblems; importsdeproblems()\n  prob = DiffEqProblemLibrary.SDEProblemLibrary.oval2ModelExample(largeFluctuations=true,useBigs=false)\n  Random.seed!(99 + myid())\n  prob = remake(prob,tspan=(0.0,1.0))\n  println(\"Solve once to compile.\")\n  sol = solve(prob,EM(),dt=1/2^(18),adaptive=false,save_everystep=false)\n  sol = solve(prob,RKMil(),dt=1/2^(18),adaptive=false,save_everystep=false)\n  sol = solve(prob,SRIW1(),dt=1/2^(18),adaptive=false,save_everystep=false)\n  sol = solve(prob,SRI(),dt=1/2^(18),adaptive=false,save_everystep=false)\n  sol = solve(prob,SOSRI(),dt=1/2^(18),adaptive=false,save_everystep=false)\n  sol = solve(prob,SOSRI2(),dt=1/2^(18),adaptive=false,save_everystep=false)\n  Int(sol.u[1]!=NaN)\n  println(\"Compilation complete.\")\n  js = 16:21\n  dts = 1.0 ./ 2.0 .^ (js)\n  fails = Array{Int}(undef,length(dts),3)\n  times = Array{Float64}(undef,length(dts),3)\n  numRuns = 10000\nend\nprintln(\"Setup Complete\")"
      ],
      "metadata": {},
      "execution_count": null
    },
    {
      "outputs": [],
      "cell_type": "code",
      "source": [
        "## Timing Runs\n\n@everywhere function runAdaptiveSRIW1(i)\n  sol = solve(prob,SRIW1(),abstol=2.0^(-13),reltol=2.0^(-7),maxIters=Int(1e11),qmax=1.125,save_everystep=false)\n  Int(any(isnan,sol[end]) || sol.t[end] != 1)\nend\n@everywhere Random.seed!(99 + myid())\nadaptiveTime = @elapsed numFails = sum(pmap(runAdaptiveSRIW1,1:numRuns))\nprintln(\"The number of Adaptive Fails is $numFails. Elapsed time was $adaptiveTime\")"
      ],
      "metadata": {},
      "execution_count": null
    },
    {
      "outputs": [],
      "cell_type": "code",
      "source": [
        "## Timing Runs\n\n@everywhere function runAdaptiveSRI(i)\n    sol = solve(prob,SRI(error_terms=2),abstol=2.0^(-13),reltol=2.0^(-7),maxIters=Int(1e11),qmax=1.125,save_everystep=false)\n  Int(any(isnan,sol[end]) || sol.t[end] != 1)\nend\n@everywhere Random.seed!(99 + myid())\nadaptiveTime = @elapsed numFails = sum(pmap(runAdaptiveSRI,1:numRuns))\nprintln(\"The number of Adaptive Fails is $numFails. Elapsed time was $adaptiveTime\")"
      ],
      "metadata": {},
      "execution_count": null
    },
    {
      "outputs": [],
      "cell_type": "code",
      "source": [
        "## Timing Runs\n\n@everywhere function runAdaptiveSRI(i)\n  sol = solve(prob,SRI(),abstol=2.0^(-14),reltol=2.0^(-18),maxIters=Int(1e11),qmax=1.125,save_everystep=false)\n  Int(any(isnan,sol[end]) || sol.t[end] != 1)\nend\n@everywhere Random.seed!(99 + myid())\nadaptiveTime = @elapsed numFails = sum(pmap(runAdaptiveSRI,1:numRuns))\nprintln(\"The number of Adaptive Fails is $numFails. Elapsed time was $adaptiveTime\")"
      ],
      "metadata": {},
      "execution_count": null
    },
    {
      "outputs": [],
      "cell_type": "code",
      "source": [
        "## Timing Runs\n\n@everywhere function runAdaptiveSRIOpt1(i)\n  sol = solve(prob,SRI(tableau=StochasticDiffEq.constructSRIOpt1()),abstol=2.0^(-7),reltol=2.0^(-4),maxIters=Int(1e11),qmax=1.125,save_everystep=false)\n  Int(any(isnan,sol[end]) || sol.t[end] != 1)\nend\n@everywhere Random.seed!(99 + myid())\nadaptiveTime = @elapsed numFails = sum(pmap(runAdaptiveSRIOpt1,1:numRuns))\nprintln(\"The number of Adaptive Fails is $numFails. Elapsed time was $adaptiveTime\")"
      ],
      "metadata": {},
      "execution_count": null
    },
    {
      "outputs": [],
      "cell_type": "code",
      "source": [
        "## Timing Runs\n\n@everywhere function runAdaptiveSRIOpt1(i)\n  sol = solve(prob,SOSRI(),abstol=2.0^(-7),reltol=2.0^(-4),maxIters=Int(1e11),qmax=1.125,save_everystep=false)\n  Int(any(isnan,sol[end]) || sol.t[end] != 1)\nend\n@everywhere Random.seed!(99 + myid())\nadaptiveTime = @elapsed numFails = sum(pmap(runAdaptiveSRIOpt1,1:numRuns))\nprintln(\"The number of Adaptive Fails is $numFails. Elapsed time was $adaptiveTime\")"
      ],
      "metadata": {},
      "execution_count": null
    },
    {
      "outputs": [],
      "cell_type": "code",
      "source": [
        "## Timing Runs\n\n@everywhere function runAdaptiveSRIOpt1(i)\n  sol = solve(prob,SOSRI(),abstol=2.0^(-7),reltol=2.0^(-6),maxIters=Int(1e11),qmax=1.125,save_everystep=false)\n  Int(any(isnan,sol[end]) || sol.t[end] != 1)\nend\n@everywhere Random.seed!(99 + myid())\nadaptiveTime = @elapsed numFails = sum(pmap(runAdaptiveSRIOpt1,1:numRuns))\nprintln(\"The number of Adaptive Fails is $numFails. Elapsed time was $adaptiveTime\")"
      ],
      "metadata": {},
      "execution_count": null
    },
    {
      "outputs": [],
      "cell_type": "code",
      "source": [
        "## Timing Runs\n\n@everywhere function runAdaptiveSRIOpt1(i)\n  sol = solve(prob,SOSRI(),abstol=2.0^(-12),reltol=2.0^(-15),maxIters=Int(1e11),qmax=1.125,save_everystep=false)\n  Int(any(isnan,sol[end]) || sol.t[end] != 1)\nend\n@everywhere Random.seed!(99 + myid())\nadaptiveTime = @elapsed numFails = sum(pmap(runAdaptiveSRIOpt1,1:numRuns))\nprintln(\"The number of Adaptive Fails is $numFails. Elapsed time was $adaptiveTime\")"
      ],
      "metadata": {},
      "execution_count": null
    },
    {
      "outputs": [],
      "cell_type": "code",
      "source": [
        "## Timing Runs\n\n@everywhere function runAdaptiveSRIOpt1(i)\n  sol = solve(prob,SOSRI(),abstol=2.0^(-13),reltol=2.0^(-7),maxIters=Int(1e11),qmax=1.125,save_everystep=false)\n  Int(any(isnan,sol[end]) || sol.t[end] != 1)\nend\n@everywhere Random.seed!(99 + myid())\nadaptiveTime = @elapsed numFails = sum(pmap(runAdaptiveSRIOpt1,1:numRuns))\nprintln(\"The number of Adaptive Fails is $numFails. Elapsed time was $adaptiveTime\")"
      ],
      "metadata": {},
      "execution_count": null
    },
    {
      "outputs": [],
      "cell_type": "code",
      "source": [
        "## Timing Runs\n\n@everywhere function runAdaptiveSRIOpt1(i)\n  sol = solve(prob,SOSRI(),abstol=2.0^(-12),reltol=2.0^(-15),maxIters=Int(1e11),qmax=1.125,save_everystep=false)\n  Int(any(isnan,sol[end]) || sol.t[end] != 1)\nend\n@everywhere Random.seed!(99 + myid())\nadaptiveTime = @elapsed numFails = sum(pmap(runAdaptiveSRIOpt1,1:numRuns))\nprintln(\"The number of Adaptive Fails is $numFails. Elapsed time was $adaptiveTime\")"
      ],
      "metadata": {},
      "execution_count": null
    },
    {
      "outputs": [],
      "cell_type": "code",
      "source": [
        "## Timing Runs\n\n@everywhere function runAdaptiveSRIOpt2(i)\n    sol = solve(prob,SOSRI2(),abstol=2.0^(-12),reltol=2.0^(-15),maxIters=Int(1e11),qmax=1.125,save_everystep=false)\n    Int(any(isnan,sol[end]) || sol.t[end] != 1)\nend\n@everywhere Random.seed!(99 + myid())\nadaptiveTime = @elapsed numFails = sum(pmap(runAdaptiveSRIOpt2,1:numRuns))\nprintln(\"The number of Adaptive Fails is $numFails. Elapsed time was $adaptiveTime\")"
      ],
      "metadata": {},
      "execution_count": null
    },
    {
      "outputs": [],
      "cell_type": "code",
      "source": [
        "## Timing Runs\n\n@everywhere function runAdaptiveSRIOpt2(i)\n    sol = solve(prob,SOSRI2(),abstol=2.0^(-13),reltol=2.0^(-11),maxIters=Int(1e11),qmax=1.125,save_everystep=false)\n    Int(any(isnan,sol[end]) || sol.t[end] != 1)\nend\n@everywhere Random.seed!(99 + myid())\nadaptiveTime = @elapsed numFails = sum(pmap(runAdaptiveSRIOpt2,1:numRuns))\nprintln(\"The number of Adaptive Fails is $numFails. Elapsed time was $adaptiveTime\")"
      ],
      "metadata": {},
      "execution_count": null
    },
    {
      "outputs": [],
      "cell_type": "code",
      "source": [
        "## Timing Runs\n\n@everywhere function runAdaptiveSRIOpt2(i)\n    sol = solve(prob,SOSRI2(),abstol=2.0^(-16),reltol=2.0^(-9),maxIters=Int(1e11),qmax=1.125,save_everystep=false)\n    Int(any(isnan,sol[end]) || sol.t[end] != 1)\nend\n@everywhere Random.seed!(99 + myid())\nadaptiveTime = @elapsed numFails = sum(pmap(runAdaptiveSRIOpt2,1:numRuns))\nprintln(\"The number of Adaptive Fails is $numFails. Elapsed time was $adaptiveTime\")"
      ],
      "metadata": {},
      "execution_count": null
    },
    {
      "outputs": [],
      "cell_type": "code",
      "source": [
        "@everywhere function runEM(i,j)\n  sol =solve(prob,EM(),dt=dts[j],maxIters=Int(1e11),save_everystep=false,verbose=false)\n  Int(any(isnan,sol[end]) || sol.t[end] != 1)\nend\nfor j in eachindex(js)\n  println(\"j = $j\")\n  sendto(workers(), j=j)\n  @everywhere Random.seed!(99 + myid())\n  t1 = @elapsed numFails = sum(pmap((i)->runEM(i,j),1:numRuns))\n  println(\"The number of Euler-Maruyama Fails is $numFails. Elapsed time was $t1\")\n  fails[j,1] = numFails\n  times[j,1] = t1\nend"
      ],
      "metadata": {},
      "execution_count": null
    },
    {
      "outputs": [],
      "cell_type": "code",
      "source": [
        "@everywhere function runSRI(i,j)\n  sol =solve(prob,SRIW1(),dt=dts[j],maxIters=Int(1e11),adaptive=false,save_everystep=false,verbose=false)\n  Int(any(isnan,sol[end]) || sol.t[end] != 1)\nend\nfor j in 1:4\n  println(\"j = $j\")\n  sendto(workers(), j=j)\n  @everywhere Random.seed!(99 + myid())\n  t2 = @elapsed numFails = sum(pmap((i)->runSRI(i,j),1:numRuns))\n  println(\"The number of Rossler-SRI Fails is $numFails. Elapsed time was $t2\")\n  fails[j,2] = numFails\n  times[j,2] = t2\nend"
      ],
      "metadata": {},
      "execution_count": null
    },
    {
      "outputs": [],
      "cell_type": "code",
      "source": [
        "@everywhere js = 17:21\n@everywhere dts = 1.0 ./2.0 .^ (js)\n@everywhere function runIEM(i,j)\n  sol =solve(prob,ImplicitEM(),dt=dts[j],maxIters=Int(1e11),save_everystep=false,verbose=false)\n  Int(any(isnan,sol[end]) || sol.t[end] != 1)\nend\nfor j in 1:6\n  println(\"j = $j\")\n  sendto(workers(), j=j)\n  @everywhere Random.seed!(99 + myid())\n  t2 = @elapsed numFails = sum(pmap((i)->runIEM(i,j),1:numRuns))\n    println(\"The number of Implicit-EM Fails is $numFails. Elapsed time was $t2\")\n  fails[j,2] = numFails\n  times[j,2] = t2\nend"
      ],
      "metadata": {},
      "execution_count": null
    },
    {
      "outputs": [],
      "cell_type": "code",
      "source": [
        "@everywhere js = 17:21\n@everywhere dts = 1.0 ./ 2.0 .^(js)\n@everywhere function runIRM(i,j)\n    sol =solve(prob,ImplicitRKMil(),dt=dts[j],maxIters=Int(1e11),save_everystep=false,verbose=false)\n  Int(any(isnan,sol[end]) || sol.t[end] != 1)\nend\nfor j in 1:4\n  println(\"j = $j\")\n  sendto(workers(), j=j)\n  @everywhere Random.seed!(99 + myid())\n  t2 = @elapsed numFails = sum(pmap((i)->runIRM(i,j),1:numRuns))\n    println(\"The number of Implicit-RKMil Fails is $numFails. Elapsed time was $t2\")\n  fails[j,2] = numFails\n  times[j,2] = t2\nend"
      ],
      "metadata": {},
      "execution_count": null
    },
    {
      "outputs": [],
      "cell_type": "code",
      "source": [
        "@everywhere function runMil(i,j)\n  sol =solve(prob,RKMil(),dt=dts[j],maxIters=Int(1e11),save_everystep=false,verbose=false)\n  Int(any(isnan,sol[end]) || sol.t[end] != 1)\nend\nfor j in eachindex(js)\n  println(\"j = $j\")\n  sendto(workers(), j=j)\n  @everywhere Random.seed!(99 + myid())\n  t3 = @elapsed numFails = sum(pmap((i)->runMil(i,j),1:numRuns))\n  println(\"The number of RK-Milstein Fails is $numFails. Elapsed time was $t3\")\n  fails[j,3] = numFails\n  times[j,3] = t3\nend"
      ],
      "metadata": {},
      "execution_count": null
    },
    {
      "outputs": [],
      "cell_type": "code",
      "source": [
        "using Plots\nlw = 3\np2 = plot(dts,times,xscale=:log2,yscale=:log2,guidefont=font(16),tickfont=font(14),yguide=\"Elapsed Time (s)\",xguide=L\"Chosen $\\Delta t$\",top_margin=50px,linewidth=lw,lab=[\"Euler-Maruyama\" \"RK-Mil\" \"RosslerSRI\"],legendfont=font(14))\nplot!(dts,repmat([adaptiveTime],11),linewidth=lw,line=:dash,lab=\"ESRK+RSwM3\",left_margin=75px)\nscatter!([2.0^(-20);2.0^(-20);2.0^(-18)],[times[5,1];times[5,2];times[3,3]],markersize=20,c=:red,lab=\"\")\nplot(p2,size=(800,800))"
      ],
      "metadata": {},
      "execution_count": null
    },
    {
      "outputs": [],
      "cell_type": "code",
      "source": [
        "using DiffEqBenchmarks\nDiffEqBenchmarks.bench_footer(WEAVE_ARGS[:folder],WEAVE_ARGS[:file])"
      ],
      "metadata": {},
      "execution_count": null
    }
  ],
  "nbformat_minor": 2,
  "metadata": {
    "language_info": {
      "file_extension": ".jl",
      "mimetype": "application/julia",
      "name": "julia",
      "version": "1.1.0"
    },
    "kernelspec": {
      "name": "julia-1.1",
      "display_name": "Julia 1.1.0",
      "language": "julia"
    }
  },
  "nbformat": 4
}
