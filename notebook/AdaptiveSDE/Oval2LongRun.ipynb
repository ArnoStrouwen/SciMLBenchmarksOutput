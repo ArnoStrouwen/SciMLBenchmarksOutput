{
  "cells": [
    {
      "cell_type": "markdown",
      "source": [
        "# Oval2 Long Run\n### Chris Rackauckas"
      ],
      "metadata": {}
    },
    {
      "outputs": [],
      "cell_type": "code",
      "source": [
        "using StochasticDiffEq, DiffEqProblemLibrary, Random\nusing DiffEqProblemLibrary.SDEProblemLibrary: importsdeproblems; importsdeproblems()\nprob = DiffEqProblemLibrary.SDEProblemLibrary.oval2ModelExample(largeFluctuations=true,useBigs=false)"
      ],
      "metadata": {},
      "execution_count": null
    },
    {
      "outputs": [],
      "cell_type": "code",
      "source": [
        "Random.seed!(250)\nprob = remake(prob,tspan = (0.0,500.0))\nsol = solve(prob,SRIW1(),dt=(1/2)^(18),progress=true,qmax=1.125,\n          saveat=0.1,abstol=1e-5,reltol=1e-3,maxiters=1e7);\nRandom.seed!(250)\nprob = remake(prob,tspan = (0.0,500.0))\n@time sol = solve(prob,SRIW1(),dt=(1/2)^(18),progress=true,qmax=1.125,\n    saveat=0.1,abstol=1e-5,reltol=1e-3,maxiters=1e7);"
      ],
      "metadata": {},
      "execution_count": null
    },
    {
      "outputs": [],
      "cell_type": "code",
      "source": [
        "println(maximum(sol[:,2]))\nusing Plots; gr()\nlw = 2\nlw2 = 3\np1 = plot(sol,vars=(0,16),\n          title=\"(A) Timeseries of Ecad Concentration\",xguide=\"Time (s)\",\n          yguide=\"Concentration\",guidefont=font(16),tickfont=font(16),\n          linewidth=lw,leg=false)"
      ],
      "metadata": {},
      "execution_count": null
    },
    {
      "outputs": [],
      "cell_type": "code",
      "source": [
        "p2 = plot(sol,vars=(0,17),\n          title=\"(B) Timeseries of Vim Concentration\",xguide=\"Time (s)\",\n          yguide=\"Concentration\",guidefont=font(16),\n          tickfont=font(16),linewidth=lw,leg=false)"
      ],
      "metadata": {},
      "execution_count": null
    },
    {
      "outputs": [],
      "cell_type": "code",
      "source": [
        "prob = remake(prob,tspan = (0.0,1.0))\n## Little Run\nsol = solve(prob,EM(),dt=(1/2)^(20),\n          progressbar=true,saveat=0.1)\nprintln(\"EM\")\n@time sol = solve(prob,EM(),dt=(1/2)^(20),\n          progressbar=true,saveat=0.1)\n\nsol = solve(prob,SRI(),dt=(1/2)^(18),adaptive=false,\n            progressbar=true,save_everystep=false)\nprintln(\"SRI\")\n@time sol = solve(prob,SRI(),dt=(1/2)^(18),adaptive=false,\n          progressbar=true,save_everystep=false)\n\nsol = solve(prob,SRIW1(),dt=(1/2)^(18),adaptive=false,\n          adaptivealg=:RSwM3,progressbar=false,qmax=4,saveat=0.1)\nprintln(\"SRIW1\")\n@time sol = solve(prob,SRIW1(),dt=(1/2)^(18),adaptive=false,\n          adaptivealg=:RSwM3,progressbar=false,qmax=4,saveat=0.1)\n\nsol = solve(prob,SRI(),dt=(1/2)^(18),\n          adaptivealg=:RSwM3,progressbar=false,qmax=1.125,\n          saveat=0.1,abstol=1e-6,reltol=1e-4)\nprintln(\"SRI Adaptive\")\n@time sol = solve(prob,SRI(),dt=(1/2)^(18),\n          adaptivealg=:RSwM3,progressbar=false,qmax=1.125,\n          saveat=0.1,abstol=1e-6,reltol=1e-4)\n@show length(sol.t)\n\nsol = solve(prob,SRIW1(),dt=(1/2)^(18),\n          adaptivealg=:RSwM3,progressbar=false,qmax=1.125,\n          saveat=0.1,abstol=1e-6,reltol=1e-4)\nprintln(\"SRIW1 Adaptive\")\n@time sol = solve(prob,SRIW1(),dt=(1/2)^(18),\n          adaptivealg=:RSwM3,progressbar=false,qmax=1.125,\n          saveat=0.1,abstol=1e-6,reltol=1e-4)\n@show length(sol.t)"
      ],
      "metadata": {},
      "execution_count": null
    },
    {
      "outputs": [],
      "cell_type": "code",
      "source": [
        "using DiffEqBenchmarks\nDiffEqBenchmarks.bench_footer(WEAVE_ARGS[:folder],WEAVE_ARGS[:file])"
      ],
      "metadata": {},
      "execution_count": null
    }
  ],
  "nbformat_minor": 2,
  "metadata": {
    "language_info": {
      "file_extension": ".jl",
      "mimetype": "application/julia",
      "name": "julia",
      "version": "1.1.0"
    },
    "kernelspec": {
      "name": "julia-1.1",
      "display_name": "Julia 1.1.0",
      "language": "julia"
    }
  },
  "nbformat": 4
}
